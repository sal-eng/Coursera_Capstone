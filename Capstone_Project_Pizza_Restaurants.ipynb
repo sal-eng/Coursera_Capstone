{
 "cells": [
  {
   "cell_type": "markdown",
   "metadata": {},
   "source": [
    "# Capstone Project"
   ]
  },
  {
   "cell_type": "markdown",
   "metadata": {},
   "source": [
    "##  Exploring neighborhoods in Toronto to find the neighborhood with the best Pizza Restaurant options"
   ]
  },
  {
   "cell_type": "markdown",
   "metadata": {},
   "source": [
    "First we will start by extracting data related to neighborhoods in Toronto. This information is readily available on Wikipedia."
   ]
  },
  {
   "cell_type": "code",
   "execution_count": 1,
   "metadata": {},
   "outputs": [],
   "source": [
    "import pandas as pd\n",
    "import numpy as np\n",
    "import re\n",
    "pd.set_option('display.max_columns', None)\n",
    "pd.set_option('display.max_rows', None)"
   ]
  },
  {
   "cell_type": "markdown",
   "metadata": {},
   "source": [
    "Foursquare Client Information"
   ]
  },
  {
   "cell_type": "code",
   "execution_count": 2,
   "metadata": {},
   "outputs": [],
   "source": [
    "# client info\n",
    "CLIENT_ID = 'TTEYGX0LFVPEVVOK01103USAWAFK35EH2AIBWYMKBTA0HTRU' # your Foursquare ID\n",
    "CLIENT_SECRET = 'UNP2CXDYA0NIOCDQ0KJFCXLVJED0E00Z4YMRRGAJCPCCXCV3' # your Foursquare Secret\n",
    "VERSION = '20200328' # Foursquare API version"
   ]
  },
  {
   "cell_type": "code",
   "execution_count": 3,
   "metadata": {},
   "outputs": [],
   "source": [
    "#!python3 -m pip install lxml  ## Uncomment if missing library"
   ]
  },
  {
   "cell_type": "markdown",
   "metadata": {},
   "source": [
    "Note: An older revision of the Wikipedia page is being used to extract this data due to the optimal formatting present on this page."
   ]
  },
  {
   "cell_type": "code",
   "execution_count": 4,
   "metadata": {},
   "outputs": [],
   "source": [
    "url = \"https://en.wikipedia.org/w/index.php?title=List_of_postal_codes_of_Canada:_M&oldid=942655364\""
   ]
  },
  {
   "cell_type": "markdown",
   "metadata": {},
   "source": [
    "We are using Pandas **read_html** method to extract the data"
   ]
  },
  {
   "cell_type": "code",
   "execution_count": 5,
   "metadata": {},
   "outputs": [],
   "source": [
    "# Using pandas read_html to extract tables from url\n",
    "url_tables = pd.read_html(url)"
   ]
  },
  {
   "cell_type": "code",
   "execution_count": 6,
   "metadata": {
    "scrolled": false
   },
   "outputs": [
    {
     "data": {
      "text/html": [
       "<div>\n",
       "<style scoped>\n",
       "    .dataframe tbody tr th:only-of-type {\n",
       "        vertical-align: middle;\n",
       "    }\n",
       "\n",
       "    .dataframe tbody tr th {\n",
       "        vertical-align: top;\n",
       "    }\n",
       "\n",
       "    .dataframe thead th {\n",
       "        text-align: right;\n",
       "    }\n",
       "</style>\n",
       "<table border=\"1\" class=\"dataframe\">\n",
       "  <thead>\n",
       "    <tr style=\"text-align: right;\">\n",
       "      <th></th>\n",
       "      <th>Postcode</th>\n",
       "      <th>Borough</th>\n",
       "      <th>Neighbourhood</th>\n",
       "    </tr>\n",
       "  </thead>\n",
       "  <tbody>\n",
       "    <tr>\n",
       "      <th>0</th>\n",
       "      <td>M1A</td>\n",
       "      <td>Not assigned</td>\n",
       "      <td>Not assigned</td>\n",
       "    </tr>\n",
       "    <tr>\n",
       "      <th>1</th>\n",
       "      <td>M2A</td>\n",
       "      <td>Not assigned</td>\n",
       "      <td>Not assigned</td>\n",
       "    </tr>\n",
       "    <tr>\n",
       "      <th>2</th>\n",
       "      <td>M3A</td>\n",
       "      <td>North York</td>\n",
       "      <td>Parkwoods</td>\n",
       "    </tr>\n",
       "    <tr>\n",
       "      <th>3</th>\n",
       "      <td>M4A</td>\n",
       "      <td>North York</td>\n",
       "      <td>Victoria Village</td>\n",
       "    </tr>\n",
       "    <tr>\n",
       "      <th>4</th>\n",
       "      <td>M5A</td>\n",
       "      <td>Downtown Toronto</td>\n",
       "      <td>Harbourfront</td>\n",
       "    </tr>\n",
       "  </tbody>\n",
       "</table>\n",
       "</div>"
      ],
      "text/plain": [
       "  Postcode           Borough     Neighbourhood\n",
       "0      M1A      Not assigned      Not assigned\n",
       "1      M2A      Not assigned      Not assigned\n",
       "2      M3A        North York         Parkwoods\n",
       "3      M4A        North York  Victoria Village\n",
       "4      M5A  Downtown Toronto      Harbourfront"
      ]
     },
     "execution_count": 6,
     "metadata": {},
     "output_type": "execute_result"
    }
   ],
   "source": [
    "# Getting our required table and storing it in dataframe\n",
    "codes_df = url_tables[0]\n",
    "codes_df.head()"
   ]
  },
  {
   "cell_type": "markdown",
   "metadata": {},
   "source": [
    "Some postal codes are associated with multiple neighborhood and therefore there is multiple entries for those postal codes. In the code below, we will use dataframe **group_by** function to group the data by Postal Codes and Borough names. Then we will aggregate the Neighbourhoods using the **agg** function on the group_by object."
   ]
  },
  {
   "cell_type": "code",
   "execution_count": 7,
   "metadata": {},
   "outputs": [],
   "source": [
    "codes_df = codes_df.groupby(['Postcode','Borough']).agg(lambda x: ', '.join(x.values))"
   ]
  },
  {
   "cell_type": "markdown",
   "metadata": {},
   "source": [
    "Resetting index to make Postal Codes and Boroughs into columns"
   ]
  },
  {
   "cell_type": "code",
   "execution_count": 8,
   "metadata": {},
   "outputs": [],
   "source": [
    "codes_df = codes_df.reset_index()"
   ]
  },
  {
   "cell_type": "markdown",
   "metadata": {},
   "source": [
    "Getting rid of any **Not assigned** postal codes as those do not provide any useful information"
   ]
  },
  {
   "cell_type": "code",
   "execution_count": 9,
   "metadata": {},
   "outputs": [
    {
     "data": {
      "text/html": [
       "<div>\n",
       "<style scoped>\n",
       "    .dataframe tbody tr th:only-of-type {\n",
       "        vertical-align: middle;\n",
       "    }\n",
       "\n",
       "    .dataframe tbody tr th {\n",
       "        vertical-align: top;\n",
       "    }\n",
       "\n",
       "    .dataframe thead th {\n",
       "        text-align: right;\n",
       "    }\n",
       "</style>\n",
       "<table border=\"1\" class=\"dataframe\">\n",
       "  <thead>\n",
       "    <tr style=\"text-align: right;\">\n",
       "      <th></th>\n",
       "      <th>Postcode</th>\n",
       "      <th>Borough</th>\n",
       "      <th>Neighbourhood</th>\n",
       "    </tr>\n",
       "  </thead>\n",
       "  <tbody>\n",
       "    <tr>\n",
       "      <th>1</th>\n",
       "      <td>M1B</td>\n",
       "      <td>Scarborough</td>\n",
       "      <td>Rouge, Malvern</td>\n",
       "    </tr>\n",
       "    <tr>\n",
       "      <th>2</th>\n",
       "      <td>M1C</td>\n",
       "      <td>Scarborough</td>\n",
       "      <td>Highland Creek, Rouge Hill, Port Union</td>\n",
       "    </tr>\n",
       "    <tr>\n",
       "      <th>3</th>\n",
       "      <td>M1E</td>\n",
       "      <td>Scarborough</td>\n",
       "      <td>Guildwood, Morningside, West Hill</td>\n",
       "    </tr>\n",
       "    <tr>\n",
       "      <th>4</th>\n",
       "      <td>M1G</td>\n",
       "      <td>Scarborough</td>\n",
       "      <td>Woburn</td>\n",
       "    </tr>\n",
       "    <tr>\n",
       "      <th>5</th>\n",
       "      <td>M1H</td>\n",
       "      <td>Scarborough</td>\n",
       "      <td>Cedarbrae</td>\n",
       "    </tr>\n",
       "  </tbody>\n",
       "</table>\n",
       "</div>"
      ],
      "text/plain": [
       "  Postcode      Borough                           Neighbourhood\n",
       "1      M1B  Scarborough                          Rouge, Malvern\n",
       "2      M1C  Scarborough  Highland Creek, Rouge Hill, Port Union\n",
       "3      M1E  Scarborough       Guildwood, Morningside, West Hill\n",
       "4      M1G  Scarborough                                  Woburn\n",
       "5      M1H  Scarborough                               Cedarbrae"
      ]
     },
     "execution_count": 9,
     "metadata": {},
     "output_type": "execute_result"
    }
   ],
   "source": [
    "codes_df = codes_df.where(codes_df['Borough']!=\"Not assigned\").dropna()\n",
    "codes_df.head()"
   ]
  },
  {
   "cell_type": "markdown",
   "metadata": {},
   "source": [
    "Renaming the Column"
   ]
  },
  {
   "cell_type": "code",
   "execution_count": 10,
   "metadata": {},
   "outputs": [
    {
     "data": {
      "text/html": [
       "<div>\n",
       "<style scoped>\n",
       "    .dataframe tbody tr th:only-of-type {\n",
       "        vertical-align: middle;\n",
       "    }\n",
       "\n",
       "    .dataframe tbody tr th {\n",
       "        vertical-align: top;\n",
       "    }\n",
       "\n",
       "    .dataframe thead th {\n",
       "        text-align: right;\n",
       "    }\n",
       "</style>\n",
       "<table border=\"1\" class=\"dataframe\">\n",
       "  <thead>\n",
       "    <tr style=\"text-align: right;\">\n",
       "      <th></th>\n",
       "      <th>PostalCode</th>\n",
       "      <th>Borough</th>\n",
       "      <th>Neighbourhood</th>\n",
       "    </tr>\n",
       "  </thead>\n",
       "  <tbody>\n",
       "    <tr>\n",
       "      <th>1</th>\n",
       "      <td>M1B</td>\n",
       "      <td>Scarborough</td>\n",
       "      <td>Rouge, Malvern</td>\n",
       "    </tr>\n",
       "    <tr>\n",
       "      <th>2</th>\n",
       "      <td>M1C</td>\n",
       "      <td>Scarborough</td>\n",
       "      <td>Highland Creek, Rouge Hill, Port Union</td>\n",
       "    </tr>\n",
       "    <tr>\n",
       "      <th>3</th>\n",
       "      <td>M1E</td>\n",
       "      <td>Scarborough</td>\n",
       "      <td>Guildwood, Morningside, West Hill</td>\n",
       "    </tr>\n",
       "    <tr>\n",
       "      <th>4</th>\n",
       "      <td>M1G</td>\n",
       "      <td>Scarborough</td>\n",
       "      <td>Woburn</td>\n",
       "    </tr>\n",
       "    <tr>\n",
       "      <th>5</th>\n",
       "      <td>M1H</td>\n",
       "      <td>Scarborough</td>\n",
       "      <td>Cedarbrae</td>\n",
       "    </tr>\n",
       "  </tbody>\n",
       "</table>\n",
       "</div>"
      ],
      "text/plain": [
       "  PostalCode      Borough                           Neighbourhood\n",
       "1        M1B  Scarborough                          Rouge, Malvern\n",
       "2        M1C  Scarborough  Highland Creek, Rouge Hill, Port Union\n",
       "3        M1E  Scarborough       Guildwood, Morningside, West Hill\n",
       "4        M1G  Scarborough                                  Woburn\n",
       "5        M1H  Scarborough                               Cedarbrae"
      ]
     },
     "execution_count": 10,
     "metadata": {},
     "output_type": "execute_result"
    }
   ],
   "source": [
    "codes_df.rename(columns={'Postcode':'PostalCode'},inplace=True)\n",
    "codes_df.head()"
   ]
  },
  {
   "cell_type": "code",
   "execution_count": 11,
   "metadata": {},
   "outputs": [
    {
     "data": {
      "text/plain": [
       "(103, 3)"
      ]
     },
     "execution_count": 11,
     "metadata": {},
     "output_type": "execute_result"
    }
   ],
   "source": [
    "codes_df.shape"
   ]
  },
  {
   "cell_type": "markdown",
   "metadata": {},
   "source": [
    "Next we will get the latitude and longitude data from the CSV file online"
   ]
  },
  {
   "cell_type": "code",
   "execution_count": 12,
   "metadata": {},
   "outputs": [
    {
     "data": {
      "text/plain": [
       "2891"
      ]
     },
     "execution_count": 12,
     "metadata": {},
     "output_type": "execute_result"
    }
   ],
   "source": [
    "import requests\n",
    "url = 'http://cocl.us/Geospatial_data'\n",
    "r = requests.get(url, allow_redirects=True)\n",
    "open('geo.csv', 'wb').write(r.content)"
   ]
  },
  {
   "cell_type": "markdown",
   "metadata": {},
   "source": [
    "We will now read the CSV file into a dataframe "
   ]
  },
  {
   "cell_type": "code",
   "execution_count": 13,
   "metadata": {},
   "outputs": [
    {
     "data": {
      "text/html": [
       "<div>\n",
       "<style scoped>\n",
       "    .dataframe tbody tr th:only-of-type {\n",
       "        vertical-align: middle;\n",
       "    }\n",
       "\n",
       "    .dataframe tbody tr th {\n",
       "        vertical-align: top;\n",
       "    }\n",
       "\n",
       "    .dataframe thead th {\n",
       "        text-align: right;\n",
       "    }\n",
       "</style>\n",
       "<table border=\"1\" class=\"dataframe\">\n",
       "  <thead>\n",
       "    <tr style=\"text-align: right;\">\n",
       "      <th></th>\n",
       "      <th>PostalCode</th>\n",
       "      <th>Latitude</th>\n",
       "      <th>Longitude</th>\n",
       "    </tr>\n",
       "  </thead>\n",
       "  <tbody>\n",
       "    <tr>\n",
       "      <th>0</th>\n",
       "      <td>M1B</td>\n",
       "      <td>43.806686</td>\n",
       "      <td>-79.194353</td>\n",
       "    </tr>\n",
       "    <tr>\n",
       "      <th>1</th>\n",
       "      <td>M1C</td>\n",
       "      <td>43.784535</td>\n",
       "      <td>-79.160497</td>\n",
       "    </tr>\n",
       "    <tr>\n",
       "      <th>2</th>\n",
       "      <td>M1E</td>\n",
       "      <td>43.763573</td>\n",
       "      <td>-79.188711</td>\n",
       "    </tr>\n",
       "    <tr>\n",
       "      <th>3</th>\n",
       "      <td>M1G</td>\n",
       "      <td>43.770992</td>\n",
       "      <td>-79.216917</td>\n",
       "    </tr>\n",
       "    <tr>\n",
       "      <th>4</th>\n",
       "      <td>M1H</td>\n",
       "      <td>43.773136</td>\n",
       "      <td>-79.239476</td>\n",
       "    </tr>\n",
       "  </tbody>\n",
       "</table>\n",
       "</div>"
      ],
      "text/plain": [
       "  PostalCode   Latitude  Longitude\n",
       "0        M1B  43.806686 -79.194353\n",
       "1        M1C  43.784535 -79.160497\n",
       "2        M1E  43.763573 -79.188711\n",
       "3        M1G  43.770992 -79.216917\n",
       "4        M1H  43.773136 -79.239476"
      ]
     },
     "execution_count": 13,
     "metadata": {},
     "output_type": "execute_result"
    }
   ],
   "source": [
    "geo_df = pd.read_csv('geo.csv')\n",
    "geo_df.rename(columns={'Postal Code':'PostalCode'},inplace=True)\n",
    "geo_df.head()"
   ]
  },
  {
   "cell_type": "markdown",
   "metadata": {},
   "source": [
    "We will now use **pd.merge** to left join the toronto neighborhood dataframe with the geo dataframe on Postal Code field"
   ]
  },
  {
   "cell_type": "code",
   "execution_count": 14,
   "metadata": {},
   "outputs": [
    {
     "data": {
      "text/html": [
       "<div>\n",
       "<style scoped>\n",
       "    .dataframe tbody tr th:only-of-type {\n",
       "        vertical-align: middle;\n",
       "    }\n",
       "\n",
       "    .dataframe tbody tr th {\n",
       "        vertical-align: top;\n",
       "    }\n",
       "\n",
       "    .dataframe thead th {\n",
       "        text-align: right;\n",
       "    }\n",
       "</style>\n",
       "<table border=\"1\" class=\"dataframe\">\n",
       "  <thead>\n",
       "    <tr style=\"text-align: right;\">\n",
       "      <th></th>\n",
       "      <th>PostalCode</th>\n",
       "      <th>Borough</th>\n",
       "      <th>Neighbourhood</th>\n",
       "      <th>Latitude</th>\n",
       "      <th>Longitude</th>\n",
       "    </tr>\n",
       "  </thead>\n",
       "  <tbody>\n",
       "    <tr>\n",
       "      <th>0</th>\n",
       "      <td>M1B</td>\n",
       "      <td>Scarborough</td>\n",
       "      <td>Rouge, Malvern</td>\n",
       "      <td>43.806686</td>\n",
       "      <td>-79.194353</td>\n",
       "    </tr>\n",
       "    <tr>\n",
       "      <th>1</th>\n",
       "      <td>M1C</td>\n",
       "      <td>Scarborough</td>\n",
       "      <td>Highland Creek, Rouge Hill, Port Union</td>\n",
       "      <td>43.784535</td>\n",
       "      <td>-79.160497</td>\n",
       "    </tr>\n",
       "    <tr>\n",
       "      <th>2</th>\n",
       "      <td>M1E</td>\n",
       "      <td>Scarborough</td>\n",
       "      <td>Guildwood, Morningside, West Hill</td>\n",
       "      <td>43.763573</td>\n",
       "      <td>-79.188711</td>\n",
       "    </tr>\n",
       "    <tr>\n",
       "      <th>3</th>\n",
       "      <td>M1G</td>\n",
       "      <td>Scarborough</td>\n",
       "      <td>Woburn</td>\n",
       "      <td>43.770992</td>\n",
       "      <td>-79.216917</td>\n",
       "    </tr>\n",
       "    <tr>\n",
       "      <th>4</th>\n",
       "      <td>M1H</td>\n",
       "      <td>Scarborough</td>\n",
       "      <td>Cedarbrae</td>\n",
       "      <td>43.773136</td>\n",
       "      <td>-79.239476</td>\n",
       "    </tr>\n",
       "  </tbody>\n",
       "</table>\n",
       "</div>"
      ],
      "text/plain": [
       "  PostalCode      Borough                           Neighbourhood   Latitude  \\\n",
       "0        M1B  Scarborough                          Rouge, Malvern  43.806686   \n",
       "1        M1C  Scarborough  Highland Creek, Rouge Hill, Port Union  43.784535   \n",
       "2        M1E  Scarborough       Guildwood, Morningside, West Hill  43.763573   \n",
       "3        M1G  Scarborough                                  Woburn  43.770992   \n",
       "4        M1H  Scarborough                               Cedarbrae  43.773136   \n",
       "\n",
       "   Longitude  \n",
       "0 -79.194353  \n",
       "1 -79.160497  \n",
       "2 -79.188711  \n",
       "3 -79.216917  \n",
       "4 -79.239476  "
      ]
     },
     "execution_count": 14,
     "metadata": {},
     "output_type": "execute_result"
    }
   ],
   "source": [
    "toronto_df = pd.merge(codes_df, geo_df, how='left', on='PostalCode')\n",
    "toronto_df.head()"
   ]
  },
  {
   "cell_type": "markdown",
   "metadata": {},
   "source": [
    "Now we will write a function that finds nearby restaurants for a particular location (latitude/longitude). This function uses the Foursquare API and makes calls using the **venues/search** endpoint."
   ]
  },
  {
   "cell_type": "code",
   "execution_count": 16,
   "metadata": {},
   "outputs": [],
   "source": [
    "def getNearbyVenues(name, lat, lng, radius=3000, LIMIT=1000):\n",
    "    \n",
    "    # create the API request URL\n",
    "    url = 'https://api.foursquare.com/v2/venues/search?&client_id={}&client_secret={}&v={}&ll={},{}&radius={}&limit={}'.format(\n",
    "        CLIENT_ID, \n",
    "        CLIENT_SECRET, \n",
    "        VERSION, \n",
    "        lat, \n",
    "        lng, \n",
    "        radius, \n",
    "        LIMIT)\n",
    "\n",
    "    # make the GET request\n",
    "    results = requests.get(url).json()[\"response\"]['venues']\n",
    "    \n",
    "    \n",
    "    # return only relevant information for each nearby venue\n",
    "    venue_list = []\n",
    "    for v in results:\n",
    "        try:\n",
    "            postal_code = v['location']['postalCode'].split(r' ')[0][:3].upper()\n",
    "            venue_list.append([\n",
    "                name,\n",
    "                v['id'],\n",
    "                v['name'], \n",
    "                v['location']['lat'], \n",
    "                v['location']['lng'],\n",
    "                postal_code,\n",
    "                v['categories'][0]['name']])\n",
    "        except:\n",
    "            continue\n",
    "        \n",
    "   \n",
    "\n",
    "    nearby_venues = pd.DataFrame([item for item in venue_list])\n",
    "    nearby_venues.columns = ['Neighborhood',\n",
    "                  'ID',\n",
    "                  'Venue', \n",
    "                  'Venue Latitude', \n",
    "                  'Venue Longitude',\n",
    "                  'PostalCode',\n",
    "                  'Venue Category']\n",
    "    \n",
    "        \n",
    "    \n",
    "    return(nearby_venues)"
   ]
  },
  {
   "cell_type": "markdown",
   "metadata": {},
   "source": [
    "Loop through neighborhood and search nearby venues based on Latitude and Longitude"
   ]
  },
  {
   "cell_type": "code",
   "execution_count": 17,
   "metadata": {},
   "outputs": [
    {
     "name": "stderr",
     "output_type": "stream",
     "text": [
      "/Library/Frameworks/Python.framework/Versions/3.7/lib/python3.7/site-packages/pandas/core/frame.py:6692: FutureWarning: Sorting because non-concatenation axis is not aligned. A future version\n",
      "of pandas will change to not sort by default.\n",
      "\n",
      "To accept the future behavior, pass 'sort=False'.\n",
      "\n",
      "To retain the current behavior and silence the warning, pass 'sort=True'.\n",
      "\n",
      "  sort=sort)\n"
     ]
    }
   ],
   "source": [
    "toronto_venues = pd.DataFrame(columns=['Neighborhood', 'PostalCode', 'Venue', 'Venue Category',\n",
    "       'Venue Latitude', 'Venue Longitude'])\n",
    "for (name,lat,lng) in zip(toronto_df['Neighbourhood'],toronto_df['Latitude'],toronto_df['Longitude']):\n",
    "    toronto_venues = toronto_venues.append(getNearbyVenues(name,lat,lng),ignore_index=True)"
   ]
  },
  {
   "cell_type": "code",
   "execution_count": 18,
   "metadata": {
    "scrolled": true
   },
   "outputs": [
    {
     "data": {
      "text/plain": [
       "Office                                      236\n",
       "Residential Building (Apartment / Condo)    139\n",
       "Coffee Shop                                 126\n",
       "Bank                                         99\n",
       "Salon / Barbershop                           87\n",
       "Pizza Place                                  84\n",
       "Automotive Shop                              79\n",
       "Medical Center                               76\n",
       "Dentist's Office                             74\n",
       "Building                                     70\n",
       "Pharmacy                                     64\n",
       "Restaurant                                   62\n",
       "Doctor's Office                              61\n",
       "Church                                       57\n",
       "Café                                         54\n",
       "Sandwich Place                               52\n",
       "Grocery Store                                51\n",
       "Gas Station                                  51\n",
       "Clothing Store                               50\n",
       "Fast Food Restaurant                         44\n",
       "Furniture / Home Store                       44\n",
       "Convenience Store                            41\n",
       "Chinese Restaurant                           38\n",
       "Bakery                                       36\n",
       "Park                                         35\n",
       "Financial or Legal Service                   33\n",
       "Rental Car Location                          33\n",
       "Gym                                          32\n",
       "Spa                                          31\n",
       "Sushi Restaurant                             30\n",
       "Gym / Fitness Center                         30\n",
       "Italian Restaurant                           30\n",
       "Electronics Store                            30\n",
       "School                                       30\n",
       "Indian Restaurant                            29\n",
       "Mobile Phone Shop                            28\n",
       "Tech Startup                                 28\n",
       "Miscellaneous Shop                           27\n",
       "Government Building                          26\n",
       "Flower Shop                                  26\n",
       "Auto Dealership                              25\n",
       "Breakfast Spot                               25\n",
       "Hardware Store                               25\n",
       "Bar                                          25\n",
       "Coworking Space                              24\n",
       "Cosmetics Shop                               24\n",
       "Hotel                                        24\n",
       "Middle Eastern Restaurant                    23\n",
       "Nail Salon                                   22\n",
       "Japanese Restaurant                          21\n",
       "Optical Shop                                 21\n",
       "Discount Store                               20\n",
       "Health & Beauty Service                      19\n",
       "Design Studio                                19\n",
       "Event Space                                  19\n",
       "Laundry Service                              19\n",
       "Library                                      18\n",
       "Caribbean Restaurant                         18\n",
       "Vietnamese Restaurant                        17\n",
       "General Entertainment                        17\n",
       "Ice Cream Shop                               17\n",
       "Fried Chicken Joint                          17\n",
       "Hospital                                     17\n",
       "Art Gallery                                  17\n",
       "High School                                  16\n",
       "Liquor Store                                 16\n",
       "Thai Restaurant                              16\n",
       "Boutique                                     16\n",
       "Dessert Shop                                 15\n",
       "Assisted Living                              15\n",
       "Greek Restaurant                             15\n",
       "Pub                                          15\n",
       "College Academic Building                    14\n",
       "Sporting Goods Shop                          14\n",
       "Pet Store                                    14\n",
       "Burger Joint                                 14\n",
       "Supermarket                                  14\n",
       "Shoe Store                                   14\n",
       "Elementary School                            13\n",
       "Jewelry Store                                13\n",
       "Bus Stop                                     13\n",
       "Daycare                                      13\n",
       "Athletics & Sports                           12\n",
       "Veterinarian                                 12\n",
       "Shopping Mall                                12\n",
       "Deli / Bodega                                12\n",
       "Men's Store                                  12\n",
       "Women's Store                                12\n",
       "Post Office                                  12\n",
       "Metro Station                                11\n",
       "Seafood Restaurant                           11\n",
       "Playground                                   11\n",
       "Food Court                                   11\n",
       "Auto Garage                                  11\n",
       "Juice Bar                                    11\n",
       "Bookstore                                    11\n",
       "Pool                                         11\n",
       "Factory                                      10\n",
       "Lounge                                       10\n",
       "Paper / Office Supplies Store                10\n",
       "Non-Profit                                   10\n",
       "Vegetarian / Vegan Restaurant                10\n",
       "Dry Cleaner                                  10\n",
       "Fire Station                                  9\n",
       "Diner                                         9\n",
       "General College & University                  9\n",
       "BBQ Joint                                     9\n",
       "Candy Store                                   9\n",
       "Yoga Studio                                   9\n",
       "Health Food Store                             9\n",
       "Lawyer                                        9\n",
       "College Classroom                             9\n",
       "Asian Restaurant                              9\n",
       "Thrift / Vintage Store                        9\n",
       "Tea Room                                      9\n",
       "Food & Drink Shop                             8\n",
       "Brewery                                       8\n",
       "Construction & Landscaping                    8\n",
       "Storage Facility                              8\n",
       "Beer Store                                    8\n",
       "Bike Shop                                     8\n",
       "Massage Studio                                8\n",
       "Accessories Store                             8\n",
       "Toy / Game Store                              8\n",
       "Car Wash                                      8\n",
       "Business Service                              8\n",
       "Housing Development                           8\n",
       "Department Store                              8\n",
       "Shipping Store                                8\n",
       "Bubble Tea Shop                               8\n",
       "American Restaurant                           7\n",
       "College Residence Hall                        7\n",
       "Hobby Shop                                    7\n",
       "Food Truck                                    7\n",
       "Gift Shop                                     7\n",
       "Travel Agency                                 7\n",
       "Funeral Home                                  7\n",
       "Mediterranean Restaurant                      7\n",
       "Smoke Shop                                    7\n",
       "Dance Studio                                  7\n",
       "Student Center                                7\n",
       "Sports Bar                                    7\n",
       "Mexican Restaurant                            7\n",
       "Fish & Chips Shop                             7\n",
       "Frozen Yogurt Shop                            7\n",
       "Advertising Agency                            6\n",
       "Airport Service                               6\n",
       "Garden                                        6\n",
       "Martial Arts Dojo                             6\n",
       "Theater                                       6\n",
       "Arts & Crafts Store                           6\n",
       "Moving Target                                 6\n",
       "Korean Restaurant                             6\n",
       "Cemetery                                      6\n",
       "Supplement Shop                               6\n",
       "Synagogue                                     6\n",
       "Hospital Ward                                 6\n",
       "Eye Doctor                                    6\n",
       "Hookah Bar                                    6\n",
       "Print Shop                                    6\n",
       "General Travel                                6\n",
       "Tattoo Parlor                                 6\n",
       "French Restaurant                             5\n",
       "Community Center                              5\n",
       "Kids Store                                    5\n",
       "Salad Place                                   5\n",
       "Filipino Restaurant                           5\n",
       "Wine Shop                                     5\n",
       "Pet Service                                   5\n",
       "Garden Center                                 5\n",
       "Parking                                       5\n",
       "Professional & Other Places                   5\n",
       "Real Estate Office                            5\n",
       "Medical Supply Store                          5\n",
       "Transportation Service                        5\n",
       "Burrito Place                                 5\n",
       "Latin American Restaurant                     5\n",
       "Wings Joint                                   5\n",
       "Movie Theater                                 5\n",
       "Zoo Exhibit                                   5\n",
       "Meeting Room                                  5\n",
       "Medical Lab                                   5\n",
       "Trade School                                  5\n",
       "Butcher                                       5\n",
       "Cocktail Bar                                  5\n",
       "Photography Lab                               5\n",
       "ATM                                           4\n",
       "Gaming Cafe                                   4\n",
       "Halal Restaurant                              4\n",
       "Other Great Outdoors                          4\n",
       "College Gym                                   4\n",
       "College Library                               4\n",
       "Nightlife Spot                                4\n",
       "Skating Rink                                  4\n",
       "African Restaurant                            4\n",
       "College Lab                                   4\n",
       "Camera Store                                  4\n",
       "Bistro                                        4\n",
       "Bus Line                                      4\n",
       "Food Service                                  4\n",
       "Farmers Market                                4\n",
       "Portuguese Restaurant                         4\n",
       "Ramen Restaurant                              4\n",
       "Gastropub                                     4\n",
       "Gourmet Shop                                  4\n",
       "Auto Workshop                                 4\n",
       "Physical Therapist                            4\n",
       "Middle School                                 4\n",
       "Winery                                        4\n",
       "Other Nightlife                               4\n",
       "Medical School                                4\n",
       "IT Services                                   4\n",
       "Gym Pool                                      3\n",
       "Photography Studio                            3\n",
       "Fruit & Vegetable Store                       3\n",
       "South Indian Restaurant                       3\n",
       "Fireworks Store                               3\n",
       "College Arts Building                         3\n",
       "Market                                        3\n",
       "Hostel                                        3\n",
       "Chocolate Shop                                3\n",
       "Lingerie Store                                3\n",
       "Music School                                  3\n",
       "Board Shop                                    3\n",
       "Embassy / Consulate                           3\n",
       "Arcade                                        3\n",
       "Home Service                                  3\n",
       "Motorcycle Shop                               3\n",
       "Frame Store                                   3\n",
       "Cupcake Shop                                  3\n",
       "Chiropractor                                  3\n",
       "Other Repair Shop                             3\n",
       "Video Store                                   3\n",
       "Mosque                                        3\n",
       "Spiritual Center                              3\n",
       "Dog Run                                       3\n",
       "Historic Site                                 3\n",
       "Capitol Building                              3\n",
       "Tanning Salon                                 3\n",
       "Steakhouse                                    3\n",
       "Rest Area                                     3\n",
       "Temple                                        3\n",
       "Bagel Shop                                    3\n",
       "Pool Hall                                     3\n",
       "University                                    3\n",
       "Tennis Court                                  3\n",
       "Art Studio                                    3\n",
       "Rental Service                                3\n",
       "Conference Room                               3\n",
       "Bus Station                                   3\n",
       "Falafel Restaurant                            3\n",
       "Antique Shop                                  3\n",
       "Nightclub                                     3\n",
       "Recruiting Agency                             2\n",
       "Cheese Shop                                   2\n",
       "Tram Station                                  2\n",
       "Speakeasy                                     2\n",
       "Pilates Studio                                2\n",
       "Belgian Restaurant                            2\n",
       "Taco Place                                    2\n",
       "Kebab Restaurant                              2\n",
       "Recreation Center                             2\n",
       "Internet Cafe                                 2\n",
       "Currency Exchange                             2\n",
       "Hakka Restaurant                              2\n",
       "Warehouse                                     2\n",
       "Shop & Service                                2\n",
       "Noodle House                                  2\n",
       "Field                                         2\n",
       "Golf Driving Range                            2\n",
       "Luggage Store                                 2\n",
       "Monument / Landmark                           2\n",
       "Laboratory                                    2\n",
       "Pastry Shop                                   2\n",
       "Record Shop                                   2\n",
       "Food Stand                                    2\n",
       "Afghan Restaurant                             2\n",
       "Baby Store                                    2\n",
       "Shoe Repair                                   2\n",
       "Smoothie Shop                                 2\n",
       "Airport                                       2\n",
       "Pakistani Restaurant                          2\n",
       "Convention Center                             2\n",
       "Light Rail Station                            2\n",
       "Tailor Shop                                   2\n",
       "Train Station                                 2\n",
       "Mattress Store                                2\n",
       "College Administrative Building               2\n",
       "Basketball Court                              2\n",
       "City Hall                                     2\n",
       "Organic Grocery                               2\n",
       "Lake                                          2\n",
       "Driving School                                2\n",
       "Sports Club                                   2\n",
       "Fish Market                                   2\n",
       "Trail                                         2\n",
       "Bowling Alley                                 2\n",
       "Laundromat                                    2\n",
       "Shopping Plaza                                2\n",
       "Social Club                                   2\n",
       "Fraternity House                              2\n",
       "Costume Shop                                  2\n",
       "Tibetan Restaurant                            2\n",
       "Bed & Breakfast                               2\n",
       "Airport Terminal                              2\n",
       "Comic Shop                                    2\n",
       "Bridal Shop                                   2\n",
       "Kitchen Supply Store                          2\n",
       "Bike Rental / Bike Share                      2\n",
       "Outdoor Supply Store                          2\n",
       "Wine Bar                                      2\n",
       "Comfort Food Restaurant                       2\n",
       "Festival                                      2\n",
       "Concert Hall                                  2\n",
       "Alternative Healer                            2\n",
       "Music Store                                   2\n",
       "Harbor / Marina                               2\n",
       "History Museum                                2\n",
       "Video Game Store                              2\n",
       "Performing Arts Venue                         2\n",
       "Club House                                    1\n",
       "Creperie                                      1\n",
       "Ballroom                                      1\n",
       "Theme Park                                    1\n",
       "Volleyball Court                              1\n",
       "Buffet                                        1\n",
       "Waste Facility                                1\n",
       "Rehab Center                                  1\n",
       "Exhibit                                       1\n",
       "Power Plant                                   1\n",
       "Beach                                         1\n",
       "Gay Bar                                       1\n",
       "Music Venue                                   1\n",
       "Acupuncturist                                 1\n",
       "Cultural Center                               1\n",
       "Entertainment Service                         1\n",
       "Credit Union                                  1\n",
       "Other Event                                   1\n",
       "College Engineering Building                  1\n",
       "Jewish Restaurant                             1\n",
       "Theme Restaurant                              1\n",
       "College Stadium                               1\n",
       "College Cafeteria                             1\n",
       "College Theater                               1\n",
       "Sri Lankan Restaurant                         1\n",
       "Theme Park Ride / Attraction                  1\n",
       "Rock Club                                     1\n",
       "Lighting Store                                1\n",
       "Flea Market                                   1\n",
       "Taxi Stand                                    1\n",
       "Emergency Room                                1\n",
       "Baseball Field                                1\n",
       "Boat or Ferry                                 1\n",
       "Corporate Cafeteria                           1\n",
       "Kingdom Hall                                  1\n",
       "Bridge                                        1\n",
       "Food                                          1\n",
       "Donut Shop                                    1\n",
       "Eastern European Restaurant                   1\n",
       "Rock Climbing Spot                            1\n",
       "Police Station                                1\n",
       "Soup Place                                    1\n",
       "Private School                                1\n",
       "Shawarma Place                                1\n",
       "Stationery Store                              1\n",
       "Mental Health Office                          1\n",
       "College Bookstore                             1\n",
       "College Hockey Rink                           1\n",
       "Poutine Place                                 1\n",
       "Badminton Court                               1\n",
       "Animal Shelter                                1\n",
       "Hindu Temple                                  1\n",
       "Lottery Retailer                              1\n",
       "Adult Boutique                                1\n",
       "Marijuana Dispensary                          1\n",
       "Golf Course                                   1\n",
       "Comedy Club                                   1\n",
       "Radio Station                                 1\n",
       "Opera House                                   1\n",
       "Burmese Restaurant                            1\n",
       "Film Studio                                   1\n",
       "College Communications Building               1\n",
       "Tourist Information Center                    1\n",
       "Ski Chalet                                    1\n",
       "Chinese Breakfast Place                       1\n",
       "Summer Camp                                   1\n",
       "Irish Pub                                     1\n",
       "College Quad                                  1\n",
       "Persian Restaurant                            1\n",
       "Hotel Bar                                     1\n",
       "New American Restaurant                       1\n",
       "Mobility Store                                1\n",
       "Argentinian Restaurant                        1\n",
       "College Track                                 1\n",
       "Beer Bar                                      1\n",
       "Airport Lounge                                1\n",
       "Big Box Store                                 1\n",
       "College Soccer Field                          1\n",
       "Bike Trail                                    1\n",
       "Industrial Estate                             1\n",
       "Modern European Restaurant                    1\n",
       "Auditorium                                    1\n",
       "Cafeteria                                     1\n",
       "Zoo                                           1\n",
       "Tapas Restaurant                              1\n",
       "Cuban Restaurant                              1\n",
       "Dive Bar                                      1\n",
       "Indie Movie Theater                           1\n",
       "Cambodian Restaurant                          1\n",
       "Carpet Store                                  1\n",
       "Fabric Shop                                   1\n",
       "Locksmith                                     1\n",
       "Laser Tag                                     1\n",
       "Beer Garden                                   1\n",
       "Flight School                                 1\n",
       "Shanghai Restaurant                           1\n",
       "Voting Booth                                  1\n",
       "Business Center                               1\n",
       "Dumpling Restaurant                           1\n",
       "Maternity Clinic                              1\n",
       "Community College                             1\n",
       "Cajun / Creole Restaurant                     1\n",
       "Museum                                        1\n",
       "Plaza                                         1\n",
       "Prayer Room                                   1\n",
       "Water Park                                    1\n",
       "Gluten-free Restaurant                        1\n",
       "Name: Venue Category, dtype: int64"
      ]
     },
     "execution_count": 18,
     "metadata": {},
     "output_type": "execute_result"
    }
   ],
   "source": [
    "toronto_venues['Venue Category'].value_counts()"
   ]
  },
  {
   "cell_type": "markdown",
   "metadata": {},
   "source": [
    "Looking at the list of all the categories, an array of 'restaurant' type categories is created. This is later used to get all the restaurant type venues from the dataframe."
   ]
  },
  {
   "cell_type": "code",
   "execution_count": 19,
   "metadata": {},
   "outputs": [],
   "source": [
    "restaurant_keywords = ['Restaurant','Pizza','Café','Sandwich','Breakfast','Chicken','Burger','Deli','Food','BBQ','Diner','Wings','Burrito','Salad','Gourmet','Gastropub','Bistro','Bagel','Steak','Noodle','Taco','Shawarma','Buffet','Soup','Cafeteria']"
   ]
  },
  {
   "cell_type": "markdown",
   "metadata": {},
   "source": [
    "Once a list is obtained for all the venues in Toronto's neighbourhoods, we will do a join **(pd.merge)** with toronto_df containing toronto neighborhood information. This also makes sure that the venues are assigned under the right postal code as there may have been some overlap created when the venues were obtained via Foursquare API call."
   ]
  },
  {
   "cell_type": "code",
   "execution_count": 20,
   "metadata": {},
   "outputs": [
    {
     "data": {
      "text/plain": [
       "(4144, 11)"
      ]
     },
     "execution_count": 20,
     "metadata": {},
     "output_type": "execute_result"
    }
   ],
   "source": [
    "#toronto_venues.drop(columns=['Neighborhood'],inplace=True)\n",
    "final_df = pd.merge(toronto_venues, toronto_df, how='inner', on='PostalCode')\n",
    "final_df.shape"
   ]
  },
  {
   "cell_type": "markdown",
   "metadata": {},
   "source": [
    "Now we will get all the venues that are of **Restaurants**"
   ]
  },
  {
   "cell_type": "code",
   "execution_count": 21,
   "metadata": {},
   "outputs": [
    {
     "data": {
      "text/plain": [
       "(810, 11)"
      ]
     },
     "execution_count": 21,
     "metadata": {},
     "output_type": "execute_result"
    }
   ],
   "source": [
    "keyword = re.compile(r'|'.join(restaurant_keywords),re.IGNORECASE)\n",
    "mask = final_df['Venue Category'].apply(lambda x: bool(keyword.search(str(x))))\n",
    "restaurant_df = final_df[mask]\n",
    "restaurant_df.shape"
   ]
  },
  {
   "cell_type": "markdown",
   "metadata": {},
   "source": [
    "Now we will use **group_by** to get a count of restaurants in each postal code and save that into a dataframe "
   ]
  },
  {
   "cell_type": "code",
   "execution_count": 22,
   "metadata": {
    "scrolled": true
   },
   "outputs": [
    {
     "data": {
      "text/html": [
       "<div>\n",
       "<style scoped>\n",
       "    .dataframe tbody tr th:only-of-type {\n",
       "        vertical-align: middle;\n",
       "    }\n",
       "\n",
       "    .dataframe tbody tr th {\n",
       "        vertical-align: top;\n",
       "    }\n",
       "\n",
       "    .dataframe thead th {\n",
       "        text-align: right;\n",
       "    }\n",
       "</style>\n",
       "<table border=\"1\" class=\"dataframe\">\n",
       "  <thead>\n",
       "    <tr style=\"text-align: right;\">\n",
       "      <th></th>\n",
       "      <th>PostalCode</th>\n",
       "      <th>Restaurant_Count</th>\n",
       "    </tr>\n",
       "  </thead>\n",
       "  <tbody>\n",
       "    <tr>\n",
       "      <th>0</th>\n",
       "      <td>M1B</td>\n",
       "      <td>12</td>\n",
       "    </tr>\n",
       "    <tr>\n",
       "      <th>1</th>\n",
       "      <td>M1C</td>\n",
       "      <td>6</td>\n",
       "    </tr>\n",
       "    <tr>\n",
       "      <th>2</th>\n",
       "      <td>M1E</td>\n",
       "      <td>9</td>\n",
       "    </tr>\n",
       "    <tr>\n",
       "      <th>3</th>\n",
       "      <td>M1G</td>\n",
       "      <td>5</td>\n",
       "    </tr>\n",
       "    <tr>\n",
       "      <th>4</th>\n",
       "      <td>M1H</td>\n",
       "      <td>14</td>\n",
       "    </tr>\n",
       "  </tbody>\n",
       "</table>\n",
       "</div>"
      ],
      "text/plain": [
       "  PostalCode  Restaurant_Count\n",
       "0        M1B                12\n",
       "1        M1C                 6\n",
       "2        M1E                 9\n",
       "3        M1G                 5\n",
       "4        M1H                14"
      ]
     },
     "execution_count": 22,
     "metadata": {},
     "output_type": "execute_result"
    }
   ],
   "source": [
    "restaurant_count = restaurant_df.groupby(['PostalCode']).count().reset_index()\n",
    "restaurant_count = restaurant_count.loc[:,['PostalCode','Venue']]\n",
    "restaurant_count.rename(columns={'Venue':'Restaurant_Count'},inplace=True)\n",
    "restaurant_count.head()"
   ]
  },
  {
   "cell_type": "markdown",
   "metadata": {},
   "source": [
    "Now we will create a bar chart to display the top 8 neighborhoods in terms of the number of restaurants."
   ]
  },
  {
   "cell_type": "code",
   "execution_count": 23,
   "metadata": {},
   "outputs": [
    {
     "data": {
      "text/html": [
       "<div>\n",
       "<style scoped>\n",
       "    .dataframe tbody tr th:only-of-type {\n",
       "        vertical-align: middle;\n",
       "    }\n",
       "\n",
       "    .dataframe tbody tr th {\n",
       "        vertical-align: top;\n",
       "    }\n",
       "\n",
       "    .dataframe thead th {\n",
       "        text-align: right;\n",
       "    }\n",
       "</style>\n",
       "<table border=\"1\" class=\"dataframe\">\n",
       "  <thead>\n",
       "    <tr style=\"text-align: right;\">\n",
       "      <th></th>\n",
       "      <th>PostalCode</th>\n",
       "      <th>Restaurant_Count</th>\n",
       "      <th>Borough</th>\n",
       "      <th>Neighbourhood</th>\n",
       "    </tr>\n",
       "  </thead>\n",
       "  <tbody>\n",
       "    <tr>\n",
       "      <th>0</th>\n",
       "      <td>M5H</td>\n",
       "      <td>34</td>\n",
       "      <td>Downtown Toronto</td>\n",
       "      <td>Adelaide, King, Richmond</td>\n",
       "    </tr>\n",
       "    <tr>\n",
       "      <th>1</th>\n",
       "      <td>M4L</td>\n",
       "      <td>23</td>\n",
       "      <td>East Toronto</td>\n",
       "      <td>The Beaches West, India Bazaar</td>\n",
       "    </tr>\n",
       "    <tr>\n",
       "      <th>2</th>\n",
       "      <td>M4K</td>\n",
       "      <td>20</td>\n",
       "      <td>East Toronto</td>\n",
       "      <td>The Danforth West, Riverdale</td>\n",
       "    </tr>\n",
       "    <tr>\n",
       "      <th>3</th>\n",
       "      <td>M4X</td>\n",
       "      <td>20</td>\n",
       "      <td>Downtown Toronto</td>\n",
       "      <td>Cabbagetown, St. James Town</td>\n",
       "    </tr>\n",
       "    <tr>\n",
       "      <th>4</th>\n",
       "      <td>M1R</td>\n",
       "      <td>18</td>\n",
       "      <td>Scarborough</td>\n",
       "      <td>Maryvale, Wexford</td>\n",
       "    </tr>\n",
       "    <tr>\n",
       "      <th>5</th>\n",
       "      <td>M5M</td>\n",
       "      <td>17</td>\n",
       "      <td>North York</td>\n",
       "      <td>Bedford Park, Lawrence Manor East</td>\n",
       "    </tr>\n",
       "    <tr>\n",
       "      <th>6</th>\n",
       "      <td>M2N</td>\n",
       "      <td>17</td>\n",
       "      <td>North York</td>\n",
       "      <td>Willowdale South</td>\n",
       "    </tr>\n",
       "    <tr>\n",
       "      <th>7</th>\n",
       "      <td>M6N</td>\n",
       "      <td>16</td>\n",
       "      <td>York</td>\n",
       "      <td>The Junction North, Runnymede</td>\n",
       "    </tr>\n",
       "  </tbody>\n",
       "</table>\n",
       "</div>"
      ],
      "text/plain": [
       "  PostalCode  Restaurant_Count           Borough  \\\n",
       "0        M5H                34  Downtown Toronto   \n",
       "1        M4L                23      East Toronto   \n",
       "2        M4K                20      East Toronto   \n",
       "3        M4X                20  Downtown Toronto   \n",
       "4        M1R                18       Scarborough   \n",
       "5        M5M                17        North York   \n",
       "6        M2N                17        North York   \n",
       "7        M6N                16              York   \n",
       "\n",
       "                       Neighbourhood  \n",
       "0           Adelaide, King, Richmond  \n",
       "1     The Beaches West, India Bazaar  \n",
       "2       The Danforth West, Riverdale  \n",
       "3        Cabbagetown, St. James Town  \n",
       "4                  Maryvale, Wexford  \n",
       "5  Bedford Park, Lawrence Manor East  \n",
       "6                   Willowdale South  \n",
       "7      The Junction North, Runnymede  "
      ]
     },
     "execution_count": 23,
     "metadata": {},
     "output_type": "execute_result"
    }
   ],
   "source": [
    "top8_df = restaurant_count.sort_values('Restaurant_Count', ascending=False).head(8)\n",
    "top8_df = pd.merge(top8_df,codes_df,how='inner',on='PostalCode')\n",
    "top8_df"
   ]
  },
  {
   "cell_type": "code",
   "execution_count": 25,
   "metadata": {},
   "outputs": [
    {
     "data": {
      "text/plain": [
       "Text(0.5, 1.0, 'Top 8 Neighborhoods based on number of restaurants')"
      ]
     },
     "execution_count": 25,
     "metadata": {},
     "output_type": "execute_result"
    },
    {
     "data": {
      "image/png": "[encoded data removed]",
      "text/plain": [
       "<Figure size 432x288 with 1 Axes>"
      ]
     },
     "metadata": {
      "needs_background": "light"
     },
     "output_type": "display_data"
    }
   ],
   "source": [
    "import matplotlib.pyplot as plt\n",
    "import matplotlib as mpl\n",
    "\n",
    "plt.barh(top8_df['Neighbourhood'], top8_df['Restaurant_Count'])\n",
    "plt.title('Top 8 Neighborhoods based on number of restaurants')"
   ]
  },
  {
   "cell_type": "markdown",
   "metadata": {},
   "source": [
    "Now, in order to get all Pizza Restaurants, we get any venues where the name or the category contains 'Pizza' or similar keywords"
   ]
  },
  {
   "cell_type": "code",
   "execution_count": 26,
   "metadata": {},
   "outputs": [],
   "source": [
    "pizza_keywords = ['Pizza','Pizzeria']"
   ]
  },
  {
   "cell_type": "code",
   "execution_count": 27,
   "metadata": {},
   "outputs": [
    {
     "data": {
      "text/plain": [
       "(83, 11)"
      ]
     },
     "execution_count": 27,
     "metadata": {},
     "output_type": "execute_result"
    }
   ],
   "source": [
    "keyword = re.compile(r'|'.join(pizza_keywords),re.IGNORECASE)\n",
    "mask = final_df['Venue Category'].apply(lambda x: bool(keyword.search(str(x))))\n",
    "pizza_df = final_df[mask]\n",
    "pizza_df.shape\n"
   ]
  },
  {
   "cell_type": "markdown",
   "metadata": {},
   "source": [
    "Now we will use **group_by** to get a count of restaurants in each postal code and save that into a dataframe "
   ]
  },
  {
   "cell_type": "code",
   "execution_count": 28,
   "metadata": {
    "scrolled": false
   },
   "outputs": [
    {
     "data": {
      "text/html": [
       "<div>\n",
       "<style scoped>\n",
       "    .dataframe tbody tr th:only-of-type {\n",
       "        vertical-align: middle;\n",
       "    }\n",
       "\n",
       "    .dataframe tbody tr th {\n",
       "        vertical-align: top;\n",
       "    }\n",
       "\n",
       "    .dataframe thead th {\n",
       "        text-align: right;\n",
       "    }\n",
       "</style>\n",
       "<table border=\"1\" class=\"dataframe\">\n",
       "  <thead>\n",
       "    <tr style=\"text-align: right;\">\n",
       "      <th></th>\n",
       "      <th>PostalCode</th>\n",
       "      <th>Pizza_Count</th>\n",
       "    </tr>\n",
       "  </thead>\n",
       "  <tbody>\n",
       "    <tr>\n",
       "      <th>0</th>\n",
       "      <td>M1B</td>\n",
       "      <td>1</td>\n",
       "    </tr>\n",
       "    <tr>\n",
       "      <th>1</th>\n",
       "      <td>M1C</td>\n",
       "      <td>1</td>\n",
       "    </tr>\n",
       "    <tr>\n",
       "      <th>2</th>\n",
       "      <td>M1G</td>\n",
       "      <td>2</td>\n",
       "    </tr>\n",
       "    <tr>\n",
       "      <th>3</th>\n",
       "      <td>M1H</td>\n",
       "      <td>1</td>\n",
       "    </tr>\n",
       "    <tr>\n",
       "      <th>4</th>\n",
       "      <td>M1J</td>\n",
       "      <td>2</td>\n",
       "    </tr>\n",
       "  </tbody>\n",
       "</table>\n",
       "</div>"
      ],
      "text/plain": [
       "  PostalCode  Pizza_Count\n",
       "0        M1B            1\n",
       "1        M1C            1\n",
       "2        M1G            2\n",
       "3        M1H            1\n",
       "4        M1J            2"
      ]
     },
     "execution_count": 28,
     "metadata": {},
     "output_type": "execute_result"
    }
   ],
   "source": [
    "pizza_count = pizza_df.groupby(['PostalCode']).count().reset_index()\n",
    "pizza_count = pizza_count.loc[:,['PostalCode','Venue']]\n",
    "pizza_count.rename(columns={'Venue':'Pizza_Count'},inplace=True)\n",
    "pizza_count.head()"
   ]
  },
  {
   "cell_type": "markdown",
   "metadata": {},
   "source": [
    "Now we will create a bar chart to display the top 8 neighborhoods in terms of the number of restaurants."
   ]
  },
  {
   "cell_type": "code",
   "execution_count": 29,
   "metadata": {},
   "outputs": [
    {
     "data": {
      "text/html": [
       "<div>\n",
       "<style scoped>\n",
       "    .dataframe tbody tr th:only-of-type {\n",
       "        vertical-align: middle;\n",
       "    }\n",
       "\n",
       "    .dataframe tbody tr th {\n",
       "        vertical-align: top;\n",
       "    }\n",
       "\n",
       "    .dataframe thead th {\n",
       "        text-align: right;\n",
       "    }\n",
       "</style>\n",
       "<table border=\"1\" class=\"dataframe\">\n",
       "  <thead>\n",
       "    <tr style=\"text-align: right;\">\n",
       "      <th></th>\n",
       "      <th>PostalCode</th>\n",
       "      <th>Pizza_Count</th>\n",
       "      <th>Borough</th>\n",
       "      <th>Neighbourhood</th>\n",
       "    </tr>\n",
       "  </thead>\n",
       "  <tbody>\n",
       "    <tr>\n",
       "      <th>0</th>\n",
       "      <td>M3N</td>\n",
       "      <td>3</td>\n",
       "      <td>North York</td>\n",
       "      <td>Downsview Northwest</td>\n",
       "    </tr>\n",
       "    <tr>\n",
       "      <th>1</th>\n",
       "      <td>M8V</td>\n",
       "      <td>3</td>\n",
       "      <td>Etobicoke</td>\n",
       "      <td>Humber Bay Shores, Mimico South, New Toronto</td>\n",
       "    </tr>\n",
       "    <tr>\n",
       "      <th>2</th>\n",
       "      <td>M1M</td>\n",
       "      <td>3</td>\n",
       "      <td>Scarborough</td>\n",
       "      <td>Cliffcrest, Cliffside, Scarborough Village West</td>\n",
       "    </tr>\n",
       "    <tr>\n",
       "      <th>3</th>\n",
       "      <td>M1N</td>\n",
       "      <td>3</td>\n",
       "      <td>Scarborough</td>\n",
       "      <td>Birch Cliff, Cliffside West</td>\n",
       "    </tr>\n",
       "    <tr>\n",
       "      <th>4</th>\n",
       "      <td>M4X</td>\n",
       "      <td>3</td>\n",
       "      <td>Downtown Toronto</td>\n",
       "      <td>Cabbagetown, St. James Town</td>\n",
       "    </tr>\n",
       "    <tr>\n",
       "      <th>5</th>\n",
       "      <td>M9N</td>\n",
       "      <td>3</td>\n",
       "      <td>York</td>\n",
       "      <td>Weston</td>\n",
       "    </tr>\n",
       "    <tr>\n",
       "      <th>6</th>\n",
       "      <td>M8W</td>\n",
       "      <td>2</td>\n",
       "      <td>Etobicoke</td>\n",
       "      <td>Alderwood, Long Branch</td>\n",
       "    </tr>\n",
       "    <tr>\n",
       "      <th>7</th>\n",
       "      <td>M4G</td>\n",
       "      <td>2</td>\n",
       "      <td>East York</td>\n",
       "      <td>Leaside</td>\n",
       "    </tr>\n",
       "  </tbody>\n",
       "</table>\n",
       "</div>"
      ],
      "text/plain": [
       "  PostalCode  Pizza_Count           Borough  \\\n",
       "0        M3N            3        North York   \n",
       "1        M8V            3         Etobicoke   \n",
       "2        M1M            3       Scarborough   \n",
       "3        M1N            3       Scarborough   \n",
       "4        M4X            3  Downtown Toronto   \n",
       "5        M9N            3              York   \n",
       "6        M8W            2         Etobicoke   \n",
       "7        M4G            2         East York   \n",
       "\n",
       "                                     Neighbourhood  \n",
       "0                              Downsview Northwest  \n",
       "1     Humber Bay Shores, Mimico South, New Toronto  \n",
       "2  Cliffcrest, Cliffside, Scarborough Village West  \n",
       "3                      Birch Cliff, Cliffside West  \n",
       "4                      Cabbagetown, St. James Town  \n",
       "5                                           Weston  \n",
       "6                           Alderwood, Long Branch  \n",
       "7                                          Leaside  "
      ]
     },
     "execution_count": 29,
     "metadata": {},
     "output_type": "execute_result"
    }
   ],
   "source": [
    "top8pizza_df = pizza_count.sort_values('Pizza_Count', ascending=False).head(8)\n",
    "top8pizza_df = pd.merge(top8pizza_df,codes_df,how='inner',on='PostalCode')\n",
    "top8pizza_df"
   ]
  },
  {
   "cell_type": "code",
   "execution_count": 30,
   "metadata": {},
   "outputs": [
    {
     "data": {
      "text/plain": [
       "Text(0.5, 1.0, 'Top 8 Neighborhoods based on number of Pizza restaurants')"
      ]
     },
     "execution_count": 30,
     "metadata": {},
     "output_type": "execute_result"
    },
    {
     "data": {
      "image/png": "[encoded data removed]",
      "text/plain": [
       "<Figure size 432x288 with 1 Axes>"
      ]
     },
     "metadata": {
      "needs_background": "light"
     },
     "output_type": "display_data"
    }
   ],
   "source": [
    "ax = plt.subplot(1,1,1)\n",
    "ax.barh(top8pizza_df['Neighbourhood'], top8pizza_df['Pizza_Count'])\n",
    "ax.set_title('Top 8 Neighborhoods based on number of Pizza restaurants')"
   ]
  },
  {
   "cell_type": "markdown",
   "metadata": {},
   "source": [
    "Now for all these pizza restaurants, we will also fetch their overall rating from Foursquare using another endpoint (venue details)"
   ]
  },
  {
   "cell_type": "markdown",
   "metadata": {},
   "source": [
    "Creating a function to get overall rating using Venue ID"
   ]
  },
  {
   "cell_type": "code",
   "execution_count": 33,
   "metadata": {},
   "outputs": [],
   "source": [
    "def getLikesCount(venue_id):\n",
    "\n",
    "    url = 'https://api.foursquare.com/v2/venues/{}?client_id={}&client_secret={}&v={}'.format(venue_id, CLIENT_ID, CLIENT_SECRET, VERSION)\n",
    "    result = requests.get(url).json()\n",
    "    try:\n",
    "        likes_count = result['response']['venue']['likes']['count']\n",
    "    except:\n",
    "        likes_count = 'NA'\n",
    "    return likes_count"
   ]
  },
  {
   "cell_type": "code",
   "execution_count": 36,
   "metadata": {},
   "outputs": [],
   "source": [
    "likes = []\n",
    "for venue_id in pizza_df['ID']:\n",
    "    likes_count = getLikesCount(venue_id)\n",
    "    likes.append(likes_count)\n",
    "\n",
    "new_pizza_df = pizza_df.copy()\n",
    "new_pizza_df['Likes'] = likes\n"
   ]
  },
  {
   "cell_type": "code",
   "execution_count": 37,
   "metadata": {},
   "outputs": [
    {
     "data": {
      "text/html": [
       "<div>\n",
       "<style scoped>\n",
       "    .dataframe tbody tr th:only-of-type {\n",
       "        vertical-align: middle;\n",
       "    }\n",
       "\n",
       "    .dataframe tbody tr th {\n",
       "        vertical-align: top;\n",
       "    }\n",
       "\n",
       "    .dataframe thead th {\n",
       "        text-align: right;\n",
       "    }\n",
       "</style>\n",
       "<table border=\"1\" class=\"dataframe\">\n",
       "  <thead>\n",
       "    <tr style=\"text-align: right;\">\n",
       "      <th></th>\n",
       "      <th>ID</th>\n",
       "      <th>Neighborhood</th>\n",
       "      <th>PostalCode</th>\n",
       "      <th>Venue</th>\n",
       "      <th>Venue Category</th>\n",
       "      <th>Venue Latitude</th>\n",
       "      <th>Venue Longitude</th>\n",
       "      <th>Borough</th>\n",
       "      <th>Neighbourhood</th>\n",
       "      <th>Latitude</th>\n",
       "      <th>Longitude</th>\n",
       "      <th>Likes</th>\n",
       "    </tr>\n",
       "  </thead>\n",
       "  <tbody>\n",
       "    <tr>\n",
       "      <th>53</th>\n",
       "      <td>53b6ac2e498ea7ec7d43cd68</td>\n",
       "      <td>Upper Rouge</td>\n",
       "      <td>M1B</td>\n",
       "      <td>Yogi's Pizza &amp; Wings</td>\n",
       "      <td>Pizza Place</td>\n",
       "      <td>43.817002</td>\n",
       "      <td>-79.211004</td>\n",
       "      <td>Scarborough</td>\n",
       "      <td>Rouge, Malvern</td>\n",
       "      <td>43.806686</td>\n",
       "      <td>-79.194353</td>\n",
       "      <td>0</td>\n",
       "    </tr>\n",
       "    <tr>\n",
       "      <th>66</th>\n",
       "      <td>5e7401a3948c0000083f2b08</td>\n",
       "      <td>Highland Creek, Rouge Hill, Port Union</td>\n",
       "      <td>M1C</td>\n",
       "      <td>Mark’s Pizzas</td>\n",
       "      <td>Pizza Place</td>\n",
       "      <td>43.783293</td>\n",
       "      <td>-79.169771</td>\n",
       "      <td>Scarborough</td>\n",
       "      <td>Highland Creek, Rouge Hill, Port Union</td>\n",
       "      <td>43.784535</td>\n",
       "      <td>-79.160497</td>\n",
       "      <td>0</td>\n",
       "    </tr>\n",
       "    <tr>\n",
       "      <th>104</th>\n",
       "      <td>4b5a2f4ff964a520b7b228e3</td>\n",
       "      <td>The Beaches West, India Bazaar</td>\n",
       "      <td>M4L</td>\n",
       "      <td>Pizzaiolo</td>\n",
       "      <td>Pizza Place</td>\n",
       "      <td>43.668953</td>\n",
       "      <td>-79.311683</td>\n",
       "      <td>East Toronto</td>\n",
       "      <td>The Beaches West, India Bazaar</td>\n",
       "      <td>43.668999</td>\n",
       "      <td>-79.315572</td>\n",
       "      <td>4</td>\n",
       "    </tr>\n",
       "    <tr>\n",
       "      <th>141</th>\n",
       "      <td>4bcb794f3740b71390996265</td>\n",
       "      <td>Business Reply Mail Processing Centre 969 Eastern</td>\n",
       "      <td>M4L</td>\n",
       "      <td>Queen Margherita Pizza</td>\n",
       "      <td>Pizza Place</td>\n",
       "      <td>43.664685</td>\n",
       "      <td>-79.324164</td>\n",
       "      <td>East Toronto</td>\n",
       "      <td>The Beaches West, India Bazaar</td>\n",
       "      <td>43.668999</td>\n",
       "      <td>-79.315572</td>\n",
       "      <td>86</td>\n",
       "    </tr>\n",
       "    <tr>\n",
       "      <th>192</th>\n",
       "      <td>4f88ecb2e4b0af04c0141561</td>\n",
       "      <td>Caledonia-Fairbanks</td>\n",
       "      <td>M6E</td>\n",
       "      <td>Hartley's Bistro</td>\n",
       "      <td>Pizza Place</td>\n",
       "      <td>43.695107</td>\n",
       "      <td>-79.455020</td>\n",
       "      <td>York</td>\n",
       "      <td>Caledonia-Fairbanks</td>\n",
       "      <td>43.689026</td>\n",
       "      <td>-79.453512</td>\n",
       "      <td>0</td>\n",
       "    </tr>\n",
       "  </tbody>\n",
       "</table>\n",
       "</div>"
      ],
      "text/plain": [
       "                           ID  \\\n",
       "53   53b6ac2e498ea7ec7d43cd68   \n",
       "66   5e7401a3948c0000083f2b08   \n",
       "104  4b5a2f4ff964a520b7b228e3   \n",
       "141  4bcb794f3740b71390996265   \n",
       "192  4f88ecb2e4b0af04c0141561   \n",
       "\n",
       "                                          Neighborhood PostalCode  \\\n",
       "53                                         Upper Rouge        M1B   \n",
       "66              Highland Creek, Rouge Hill, Port Union        M1C   \n",
       "104                     The Beaches West, India Bazaar        M4L   \n",
       "141  Business Reply Mail Processing Centre 969 Eastern        M4L   \n",
       "192                                Caledonia-Fairbanks        M6E   \n",
       "\n",
       "                      Venue Venue Category  Venue Latitude  Venue Longitude  \\\n",
       "53     Yogi's Pizza & Wings    Pizza Place       43.817002       -79.211004   \n",
       "66            Mark’s Pizzas    Pizza Place       43.783293       -79.169771   \n",
       "104               Pizzaiolo    Pizza Place       43.668953       -79.311683   \n",
       "141  Queen Margherita Pizza    Pizza Place       43.664685       -79.324164   \n",
       "192        Hartley's Bistro    Pizza Place       43.695107       -79.455020   \n",
       "\n",
       "          Borough                           Neighbourhood   Latitude  \\\n",
       "53    Scarborough                          Rouge, Malvern  43.806686   \n",
       "66    Scarborough  Highland Creek, Rouge Hill, Port Union  43.784535   \n",
       "104  East Toronto          The Beaches West, India Bazaar  43.668999   \n",
       "141  East Toronto          The Beaches West, India Bazaar  43.668999   \n",
       "192          York                     Caledonia-Fairbanks  43.689026   \n",
       "\n",
       "     Longitude  Likes  \n",
       "53  -79.194353      0  \n",
       "66  -79.160497      0  \n",
       "104 -79.315572      4  \n",
       "141 -79.315572     86  \n",
       "192 -79.453512      0  "
      ]
     },
     "execution_count": 37,
     "metadata": {},
     "output_type": "execute_result"
    }
   ],
   "source": [
    "new_pizza_df.head()"
   ]
  },
  {
   "cell_type": "markdown",
   "metadata": {},
   "source": [
    "Now we will create a **histogram** to analyze the number of Likes"
   ]
  },
  {
   "cell_type": "code",
   "execution_count": 38,
   "metadata": {},
   "outputs": [
    {
     "data": {
      "text/plain": [
       "Text(0.5, 0, 'Number of Likes')"
      ]
     },
     "execution_count": 38,
     "metadata": {},
     "output_type": "execute_result"
    },
    {
     "data": {
      "image/png": "[encoded data removed]",
      "text/plain": [
       "<Figure size 576x360 with 1 Axes>"
      ]
     },
     "metadata": {
      "needs_background": "light"
     },
     "output_type": "display_data"
    }
   ],
   "source": [
    "count, bin_edges = np.histogram(new_pizza_df['Likes'])\n",
    "new_pizza_df['Likes'].plot(kind='hist', figsize=(8, 5), xticks=bin_edges)\n",
    "plt.title('Histogram for Number of Likes submitted on pizza restaurants')\n",
    "plt.xlabel('Number of Likes')"
   ]
  },
  {
   "cell_type": "markdown",
   "metadata": {},
   "source": [
    "Any value over 33 can be considered an outlier. If we include it in our dataset, it would significantly skew the result in the favor of that neighborhood. In order to present more balanced clustering of neighborhoods, we will cap the values at 33."
   ]
  },
  {
   "cell_type": "code",
   "execution_count": 39,
   "metadata": {},
   "outputs": [],
   "source": [
    "new_pizza_df.loc[new_pizza_df['Likes'] > 33,'Likes'] = 33"
   ]
  },
  {
   "cell_type": "markdown",
   "metadata": {},
   "source": [
    "Now we will use **group_by** to get a mean number of Likes in each postal code and save that into a dataframe "
   ]
  },
  {
   "cell_type": "code",
   "execution_count": 40,
   "metadata": {},
   "outputs": [],
   "source": [
    "pizza_like_count = new_pizza_df.groupby(['PostalCode']).mean()['Likes'].reset_index()"
   ]
  },
  {
   "cell_type": "markdown",
   "metadata": {},
   "source": [
    "Now we will use a bar chart to show the top 8 neighborhoods based on the mean number of likes"
   ]
  },
  {
   "cell_type": "code",
   "execution_count": 41,
   "metadata": {},
   "outputs": [
    {
     "data": {
      "text/html": [
       "<div>\n",
       "<style scoped>\n",
       "    .dataframe tbody tr th:only-of-type {\n",
       "        vertical-align: middle;\n",
       "    }\n",
       "\n",
       "    .dataframe tbody tr th {\n",
       "        vertical-align: top;\n",
       "    }\n",
       "\n",
       "    .dataframe thead th {\n",
       "        text-align: right;\n",
       "    }\n",
       "</style>\n",
       "<table border=\"1\" class=\"dataframe\">\n",
       "  <thead>\n",
       "    <tr style=\"text-align: right;\">\n",
       "      <th></th>\n",
       "      <th>PostalCode</th>\n",
       "      <th>Likes</th>\n",
       "      <th>Borough</th>\n",
       "      <th>Neighbourhood</th>\n",
       "    </tr>\n",
       "  </thead>\n",
       "  <tbody>\n",
       "    <tr>\n",
       "      <th>0</th>\n",
       "      <td>M6J</td>\n",
       "      <td>31.0</td>\n",
       "      <td>West Toronto</td>\n",
       "      <td>Little Portugal, Trinity</td>\n",
       "    </tr>\n",
       "    <tr>\n",
       "      <th>1</th>\n",
       "      <td>M4S</td>\n",
       "      <td>26.0</td>\n",
       "      <td>Central Toronto</td>\n",
       "      <td>Davisville</td>\n",
       "    </tr>\n",
       "    <tr>\n",
       "      <th>2</th>\n",
       "      <td>M4L</td>\n",
       "      <td>18.5</td>\n",
       "      <td>East Toronto</td>\n",
       "      <td>The Beaches West, India Bazaar</td>\n",
       "    </tr>\n",
       "    <tr>\n",
       "      <th>3</th>\n",
       "      <td>M8W</td>\n",
       "      <td>9.5</td>\n",
       "      <td>Etobicoke</td>\n",
       "      <td>Alderwood, Long Branch</td>\n",
       "    </tr>\n",
       "    <tr>\n",
       "      <th>4</th>\n",
       "      <td>M5J</td>\n",
       "      <td>9.0</td>\n",
       "      <td>Downtown Toronto</td>\n",
       "      <td>Harbourfront East, Toronto Islands, Union Station</td>\n",
       "    </tr>\n",
       "    <tr>\n",
       "      <th>5</th>\n",
       "      <td>M2R</td>\n",
       "      <td>6.0</td>\n",
       "      <td>North York</td>\n",
       "      <td>Willowdale West</td>\n",
       "    </tr>\n",
       "    <tr>\n",
       "      <th>6</th>\n",
       "      <td>M2N</td>\n",
       "      <td>5.0</td>\n",
       "      <td>North York</td>\n",
       "      <td>Willowdale South</td>\n",
       "    </tr>\n",
       "    <tr>\n",
       "      <th>7</th>\n",
       "      <td>M6H</td>\n",
       "      <td>4.0</td>\n",
       "      <td>West Toronto</td>\n",
       "      <td>Dovercourt Village, Dufferin</td>\n",
       "    </tr>\n",
       "  </tbody>\n",
       "</table>\n",
       "</div>"
      ],
      "text/plain": [
       "  PostalCode  Likes           Borough  \\\n",
       "0        M6J   31.0      West Toronto   \n",
       "1        M4S   26.0   Central Toronto   \n",
       "2        M4L   18.5      East Toronto   \n",
       "3        M8W    9.5         Etobicoke   \n",
       "4        M5J    9.0  Downtown Toronto   \n",
       "5        M2R    6.0        North York   \n",
       "6        M2N    5.0        North York   \n",
       "7        M6H    4.0      West Toronto   \n",
       "\n",
       "                                       Neighbourhood  \n",
       "0                           Little Portugal, Trinity  \n",
       "1                                         Davisville  \n",
       "2                     The Beaches West, India Bazaar  \n",
       "3                             Alderwood, Long Branch  \n",
       "4  Harbourfront East, Toronto Islands, Union Station  \n",
       "5                                    Willowdale West  \n",
       "6                                   Willowdale South  \n",
       "7                       Dovercourt Village, Dufferin  "
      ]
     },
     "execution_count": 41,
     "metadata": {},
     "output_type": "execute_result"
    }
   ],
   "source": [
    "likes_df = pizza_like_count.sort_values('Likes',ascending=False).head(8)\n",
    "likes_df = pd.merge(likes_df, codes_df, how='inner', on='PostalCode')\n",
    "likes_df"
   ]
  },
  {
   "cell_type": "code",
   "execution_count": 42,
   "metadata": {
    "scrolled": true
   },
   "outputs": [
    {
     "data": {
      "text/plain": [
       "Text(0.5, 0, 'Mean number of likes')"
      ]
     },
     "execution_count": 42,
     "metadata": {},
     "output_type": "execute_result"
    },
    {
     "data": {
      "image/png": "[encoded data removed]",
      "text/plain": [
       "<Figure size 432x288 with 1 Axes>"
      ]
     },
     "metadata": {
      "needs_background": "light"
     },
     "output_type": "display_data"
    }
   ],
   "source": [
    "pizza_like_count.sort_values('Likes',ascending=False).head(8) \n",
    "ax = plt.subplot(1,1,1)\n",
    "ax.barh(likes_df['Neighbourhood'],likes_df['Likes'])\n",
    "plt.title('Top 8 neighborhoods based on mean number of likes submitted for Pizza Restaurants')\n",
    "plt.xlabel('Mean number of likes')"
   ]
  },
  {
   "cell_type": "markdown",
   "metadata": {},
   "source": [
    "\n",
    "Now building our feature set consisting of number of Restaurants, number of Pizza Restaurants and mean number of Likes for each postal code."
   ]
  },
  {
   "cell_type": "code",
   "execution_count": 43,
   "metadata": {},
   "outputs": [],
   "source": [
    "pizza_like_count = new_pizza_df.groupby(['PostalCode']).mean()['Likes'].reset_index()"
   ]
  },
  {
   "cell_type": "code",
   "execution_count": 44,
   "metadata": {},
   "outputs": [
    {
     "data": {
      "text/html": [
       "<div>\n",
       "<style scoped>\n",
       "    .dataframe tbody tr th:only-of-type {\n",
       "        vertical-align: middle;\n",
       "    }\n",
       "\n",
       "    .dataframe tbody tr th {\n",
       "        vertical-align: top;\n",
       "    }\n",
       "\n",
       "    .dataframe thead th {\n",
       "        text-align: right;\n",
       "    }\n",
       "</style>\n",
       "<table border=\"1\" class=\"dataframe\">\n",
       "  <thead>\n",
       "    <tr style=\"text-align: right;\">\n",
       "      <th></th>\n",
       "      <th>PostalCode</th>\n",
       "      <th>Borough</th>\n",
       "      <th>Neighbourhood</th>\n",
       "      <th>Restaurant_Count</th>\n",
       "      <th>Pizza_Count</th>\n",
       "      <th>Likes</th>\n",
       "    </tr>\n",
       "  </thead>\n",
       "  <tbody>\n",
       "    <tr>\n",
       "      <th>0</th>\n",
       "      <td>M1B</td>\n",
       "      <td>Scarborough</td>\n",
       "      <td>Rouge, Malvern</td>\n",
       "      <td>12.0</td>\n",
       "      <td>1.0</td>\n",
       "      <td>0.0</td>\n",
       "    </tr>\n",
       "    <tr>\n",
       "      <th>1</th>\n",
       "      <td>M1C</td>\n",
       "      <td>Scarborough</td>\n",
       "      <td>Highland Creek, Rouge Hill, Port Union</td>\n",
       "      <td>6.0</td>\n",
       "      <td>1.0</td>\n",
       "      <td>0.0</td>\n",
       "    </tr>\n",
       "    <tr>\n",
       "      <th>2</th>\n",
       "      <td>M1E</td>\n",
       "      <td>Scarborough</td>\n",
       "      <td>Guildwood, Morningside, West Hill</td>\n",
       "      <td>9.0</td>\n",
       "      <td>NaN</td>\n",
       "      <td>NaN</td>\n",
       "    </tr>\n",
       "    <tr>\n",
       "      <th>3</th>\n",
       "      <td>M1G</td>\n",
       "      <td>Scarborough</td>\n",
       "      <td>Woburn</td>\n",
       "      <td>5.0</td>\n",
       "      <td>2.0</td>\n",
       "      <td>1.0</td>\n",
       "    </tr>\n",
       "    <tr>\n",
       "      <th>4</th>\n",
       "      <td>M1H</td>\n",
       "      <td>Scarborough</td>\n",
       "      <td>Cedarbrae</td>\n",
       "      <td>14.0</td>\n",
       "      <td>1.0</td>\n",
       "      <td>1.0</td>\n",
       "    </tr>\n",
       "  </tbody>\n",
       "</table>\n",
       "</div>"
      ],
      "text/plain": [
       "  PostalCode      Borough                           Neighbourhood  \\\n",
       "0        M1B  Scarborough                          Rouge, Malvern   \n",
       "1        M1C  Scarborough  Highland Creek, Rouge Hill, Port Union   \n",
       "2        M1E  Scarborough       Guildwood, Morningside, West Hill   \n",
       "3        M1G  Scarborough                                  Woburn   \n",
       "4        M1H  Scarborough                               Cedarbrae   \n",
       "\n",
       "   Restaurant_Count  Pizza_Count  Likes  \n",
       "0              12.0          1.0    0.0  \n",
       "1               6.0          1.0    0.0  \n",
       "2               9.0          NaN    NaN  \n",
       "3               5.0          2.0    1.0  \n",
       "4              14.0          1.0    1.0  "
      ]
     },
     "execution_count": 44,
     "metadata": {},
     "output_type": "execute_result"
    }
   ],
   "source": [
    "features_df = pd.merge(codes_df, restaurant_count, how='left', on='PostalCode')\n",
    "features_df = pd.merge(features_df, pizza_count, how='left', on='PostalCode')\n",
    "features_df = pd.merge(features_df, pizza_like_count, how='left', on='PostalCode')\n",
    "features_df.head()"
   ]
  },
  {
   "cell_type": "markdown",
   "metadata": {},
   "source": [
    "Now we will take a look at the missing values and resolve them."
   ]
  },
  {
   "cell_type": "code",
   "execution_count": 45,
   "metadata": {},
   "outputs": [],
   "source": [
    "features_df = features_df.fillna(0).sort_index()"
   ]
  },
  {
   "cell_type": "markdown",
   "metadata": {},
   "source": [
    "Now we will apply KMeans clustering algorithm on the feature set"
   ]
  },
  {
   "cell_type": "markdown",
   "metadata": {},
   "source": [
    "First extract feature set and normalize it"
   ]
  },
  {
   "cell_type": "code",
   "execution_count": 46,
   "metadata": {},
   "outputs": [],
   "source": [
    "features = features_df.loc[:,['Restaurant_Count','Pizza_Count','Likes']].values\n",
    "from sklearn.preprocessing import StandardScaler\n",
    "scaler = StandardScaler()\n",
    "X = scaler.fit_transform(features)"
   ]
  },
  {
   "cell_type": "markdown",
   "metadata": {},
   "source": [
    "Now apply KMeans Algorithm and divide the features into clusters. We will use the **Elbow method** to get the optimal number of clusters."
   ]
  },
  {
   "cell_type": "code",
   "execution_count": 47,
   "metadata": {
    "scrolled": true
   },
   "outputs": [],
   "source": [
    "# import k-means \n",
    "from sklearn.cluster import KMeans\n",
    "sse = []\n",
    "list_k = list(range(1, 10))\n",
    "\n",
    "for k in list_k:\n",
    "    km = KMeans(n_clusters=k)\n",
    "    km.fit(X)\n",
    "    sse.append(km.inertia_)\n",
    "\n"
   ]
  },
  {
   "cell_type": "code",
   "execution_count": 48,
   "metadata": {},
   "outputs": [
    {
     "data": {
      "text/plain": [
       "Text(0.5, 1.0, 'Sum of squared error vs number of clusters')"
      ]
     },
     "execution_count": 48,
     "metadata": {},
     "output_type": "execute_result"
    },
    {
     "data": {
      "image/png": "[encoded data removed]",
      "text/plain": [
       "<Figure size 720x720 with 1 Axes>"
      ]
     },
     "metadata": {
      "needs_background": "light"
     },
     "output_type": "display_data"
    }
   ],
   "source": [
    "# Plot sse against k\n",
    "plt.figure(figsize=(10, 10))\n",
    "plt.plot(list_k, sse, '-o')\n",
    "plt.xlabel(r'Number of clusters *k*')\n",
    "plt.ylabel('Sum of squared error')\n",
    "plt.title('Sum of squared error vs number of clusters')"
   ]
  },
  {
   "cell_type": "markdown",
   "metadata": {},
   "source": [
    "For the above plot, it can be seen that the sum of squared error (distance) decreases rapidly until k=3 and then it flattens out. We will select k=4 for the number of clusters."
   ]
  },
  {
   "cell_type": "code",
   "execution_count": 50,
   "metadata": {},
   "outputs": [
    {
     "data": {
      "text/plain": [
       "(103,)"
      ]
     },
     "execution_count": 50,
     "metadata": {},
     "output_type": "execute_result"
    }
   ],
   "source": [
    "k_clusters = 4\n",
    "# run k-means clustering\n",
    "kmeans = KMeans(n_clusters=k_clusters, random_state=0).fit(X)\n",
    "\n",
    "# check cluster labels generated for each row in the dataframe\n",
    "labels = kmeans.labels_\n",
    "labels.shape"
   ]
  },
  {
   "cell_type": "code",
   "execution_count": 51,
   "metadata": {},
   "outputs": [
    {
     "data": {
      "text/html": [
       "<div>\n",
       "<style scoped>\n",
       "    .dataframe tbody tr th:only-of-type {\n",
       "        vertical-align: middle;\n",
       "    }\n",
       "\n",
       "    .dataframe tbody tr th {\n",
       "        vertical-align: top;\n",
       "    }\n",
       "\n",
       "    .dataframe thead th {\n",
       "        text-align: right;\n",
       "    }\n",
       "</style>\n",
       "<table border=\"1\" class=\"dataframe\">\n",
       "  <thead>\n",
       "    <tr style=\"text-align: right;\">\n",
       "      <th></th>\n",
       "      <th>PostalCode</th>\n",
       "      <th>Borough</th>\n",
       "      <th>Neighbourhood</th>\n",
       "      <th>Restaurant_Count</th>\n",
       "      <th>Pizza_Count</th>\n",
       "      <th>Likes</th>\n",
       "      <th>Labels</th>\n",
       "    </tr>\n",
       "  </thead>\n",
       "  <tbody>\n",
       "    <tr>\n",
       "      <th>0</th>\n",
       "      <td>M1B</td>\n",
       "      <td>Scarborough</td>\n",
       "      <td>Rouge, Malvern</td>\n",
       "      <td>12.0</td>\n",
       "      <td>1.0</td>\n",
       "      <td>0.000000</td>\n",
       "      <td>0</td>\n",
       "    </tr>\n",
       "    <tr>\n",
       "      <th>1</th>\n",
       "      <td>M1C</td>\n",
       "      <td>Scarborough</td>\n",
       "      <td>Highland Creek, Rouge Hill, Port Union</td>\n",
       "      <td>6.0</td>\n",
       "      <td>1.0</td>\n",
       "      <td>0.000000</td>\n",
       "      <td>1</td>\n",
       "    </tr>\n",
       "    <tr>\n",
       "      <th>2</th>\n",
       "      <td>M1E</td>\n",
       "      <td>Scarborough</td>\n",
       "      <td>Guildwood, Morningside, West Hill</td>\n",
       "      <td>9.0</td>\n",
       "      <td>0.0</td>\n",
       "      <td>0.000000</td>\n",
       "      <td>0</td>\n",
       "    </tr>\n",
       "    <tr>\n",
       "      <th>3</th>\n",
       "      <td>M1G</td>\n",
       "      <td>Scarborough</td>\n",
       "      <td>Woburn</td>\n",
       "      <td>5.0</td>\n",
       "      <td>2.0</td>\n",
       "      <td>1.000000</td>\n",
       "      <td>2</td>\n",
       "    </tr>\n",
       "    <tr>\n",
       "      <th>4</th>\n",
       "      <td>M1H</td>\n",
       "      <td>Scarborough</td>\n",
       "      <td>Cedarbrae</td>\n",
       "      <td>14.0</td>\n",
       "      <td>1.0</td>\n",
       "      <td>1.000000</td>\n",
       "      <td>0</td>\n",
       "    </tr>\n",
       "    <tr>\n",
       "      <th>5</th>\n",
       "      <td>M1J</td>\n",
       "      <td>Scarborough</td>\n",
       "      <td>Scarborough Village</td>\n",
       "      <td>6.0</td>\n",
       "      <td>2.0</td>\n",
       "      <td>0.000000</td>\n",
       "      <td>2</td>\n",
       "    </tr>\n",
       "    <tr>\n",
       "      <th>6</th>\n",
       "      <td>M1K</td>\n",
       "      <td>Scarborough</td>\n",
       "      <td>East Birchmount Park, Ionview, Kennedy Park</td>\n",
       "      <td>5.0</td>\n",
       "      <td>2.0</td>\n",
       "      <td>0.000000</td>\n",
       "      <td>2</td>\n",
       "    </tr>\n",
       "    <tr>\n",
       "      <th>7</th>\n",
       "      <td>M1L</td>\n",
       "      <td>Scarborough</td>\n",
       "      <td>Clairlea, Golden Mile, Oakridge</td>\n",
       "      <td>9.0</td>\n",
       "      <td>1.0</td>\n",
       "      <td>3.000000</td>\n",
       "      <td>0</td>\n",
       "    </tr>\n",
       "    <tr>\n",
       "      <th>8</th>\n",
       "      <td>M1M</td>\n",
       "      <td>Scarborough</td>\n",
       "      <td>Cliffcrest, Cliffside, Scarborough Village West</td>\n",
       "      <td>6.0</td>\n",
       "      <td>3.0</td>\n",
       "      <td>1.666667</td>\n",
       "      <td>2</td>\n",
       "    </tr>\n",
       "    <tr>\n",
       "      <th>9</th>\n",
       "      <td>M1N</td>\n",
       "      <td>Scarborough</td>\n",
       "      <td>Birch Cliff, Cliffside West</td>\n",
       "      <td>14.0</td>\n",
       "      <td>3.0</td>\n",
       "      <td>0.666667</td>\n",
       "      <td>2</td>\n",
       "    </tr>\n",
       "  </tbody>\n",
       "</table>\n",
       "</div>"
      ],
      "text/plain": [
       "  PostalCode      Borough                                    Neighbourhood  \\\n",
       "0        M1B  Scarborough                                   Rouge, Malvern   \n",
       "1        M1C  Scarborough           Highland Creek, Rouge Hill, Port Union   \n",
       "2        M1E  Scarborough                Guildwood, Morningside, West Hill   \n",
       "3        M1G  Scarborough                                           Woburn   \n",
       "4        M1H  Scarborough                                        Cedarbrae   \n",
       "5        M1J  Scarborough                              Scarborough Village   \n",
       "6        M1K  Scarborough      East Birchmount Park, Ionview, Kennedy Park   \n",
       "7        M1L  Scarborough                  Clairlea, Golden Mile, Oakridge   \n",
       "8        M1M  Scarborough  Cliffcrest, Cliffside, Scarborough Village West   \n",
       "9        M1N  Scarborough                      Birch Cliff, Cliffside West   \n",
       "\n",
       "   Restaurant_Count  Pizza_Count     Likes  Labels  \n",
       "0              12.0          1.0  0.000000       0  \n",
       "1               6.0          1.0  0.000000       1  \n",
       "2               9.0          0.0  0.000000       0  \n",
       "3               5.0          2.0  1.000000       2  \n",
       "4              14.0          1.0  1.000000       0  \n",
       "5               6.0          2.0  0.000000       2  \n",
       "6               5.0          2.0  0.000000       2  \n",
       "7               9.0          1.0  3.000000       0  \n",
       "8               6.0          3.0  1.666667       2  \n",
       "9              14.0          3.0  0.666667       2  "
      ]
     },
     "execution_count": 51,
     "metadata": {},
     "output_type": "execute_result"
    }
   ],
   "source": [
    "features_df['Labels'] = labels\n",
    "features_df.head(10)"
   ]
  },
  {
   "cell_type": "markdown",
   "metadata": {},
   "source": [
    "The best neighborhood for Pizza restaurants based on the features (extracted from FourSquare) is **Little Portugal**, Trinity in West Toronto"
   ]
  },
  {
   "cell_type": "code",
   "execution_count": 52,
   "metadata": {},
   "outputs": [],
   "source": [
    "clusters_df = features_df.groupby('Labels').mean()"
   ]
  },
  {
   "cell_type": "code",
   "execution_count": 53,
   "metadata": {},
   "outputs": [
    {
     "data": {
      "text/plain": [
       "Text(0.5, 1.0, 'Difference between Clusters')"
      ]
     },
     "execution_count": 53,
     "metadata": {},
     "output_type": "execute_result"
    },
    {
     "data": {
      "image/png": "[encoded data removed]",
      "text/plain": [
       "<Figure size 720x432 with 1 Axes>"
      ]
     },
     "metadata": {
      "needs_background": "light"
     },
     "output_type": "display_data"
    }
   ],
   "source": [
    "clusters_df.plot(kind='bar', figsize=(10,6))\n",
    "plt.xticks(rotation=30)\n",
    "plt.title('Difference between Clusters')"
   ]
  },
  {
   "cell_type": "code",
   "execution_count": 54,
   "metadata": {},
   "outputs": [
    {
     "data": {
      "text/html": [
       "<div>\n",
       "<style scoped>\n",
       "    .dataframe tbody tr th:only-of-type {\n",
       "        vertical-align: middle;\n",
       "    }\n",
       "\n",
       "    .dataframe tbody tr th {\n",
       "        vertical-align: top;\n",
       "    }\n",
       "\n",
       "    .dataframe thead th {\n",
       "        text-align: right;\n",
       "    }\n",
       "</style>\n",
       "<table border=\"1\" class=\"dataframe\">\n",
       "  <thead>\n",
       "    <tr style=\"text-align: right;\">\n",
       "      <th></th>\n",
       "      <th>PostalCode</th>\n",
       "      <th>Borough</th>\n",
       "      <th>Neighbourhood</th>\n",
       "      <th>Restaurant_Count</th>\n",
       "      <th>Pizza_Count</th>\n",
       "      <th>Likes</th>\n",
       "      <th>Labels</th>\n",
       "    </tr>\n",
       "  </thead>\n",
       "  <tbody>\n",
       "    <tr>\n",
       "      <th>42</th>\n",
       "      <td>M4L</td>\n",
       "      <td>East Toronto</td>\n",
       "      <td>The Beaches West, India Bazaar</td>\n",
       "      <td>23.0</td>\n",
       "      <td>2.0</td>\n",
       "      <td>18.5</td>\n",
       "      <td>3</td>\n",
       "    </tr>\n",
       "    <tr>\n",
       "      <th>47</th>\n",
       "      <td>M4S</td>\n",
       "      <td>Central Toronto</td>\n",
       "      <td>Davisville</td>\n",
       "      <td>13.0</td>\n",
       "      <td>1.0</td>\n",
       "      <td>26.0</td>\n",
       "      <td>3</td>\n",
       "    </tr>\n",
       "    <tr>\n",
       "      <th>77</th>\n",
       "      <td>M6J</td>\n",
       "      <td>West Toronto</td>\n",
       "      <td>Little Portugal, Trinity</td>\n",
       "      <td>16.0</td>\n",
       "      <td>2.0</td>\n",
       "      <td>31.0</td>\n",
       "      <td>3</td>\n",
       "    </tr>\n",
       "  </tbody>\n",
       "</table>\n",
       "</div>"
      ],
      "text/plain": [
       "   PostalCode          Borough                   Neighbourhood  \\\n",
       "42        M4L     East Toronto  The Beaches West, India Bazaar   \n",
       "47        M4S  Central Toronto                      Davisville   \n",
       "77        M6J     West Toronto        Little Portugal, Trinity   \n",
       "\n",
       "    Restaurant_Count  Pizza_Count  Likes  Labels  \n",
       "42              23.0          2.0   18.5       3  \n",
       "47              13.0          1.0   26.0       3  \n",
       "77              16.0          2.0   31.0       3  "
      ]
     },
     "execution_count": 54,
     "metadata": {},
     "output_type": "execute_result"
    }
   ],
   "source": [
    "features_df.loc[features_df['Labels']==3]"
   ]
  },
  {
   "cell_type": "markdown",
   "metadata": {},
   "source": [
    "Now we will visualize the clusters on a map of Toronto."
   ]
  },
  {
   "cell_type": "code",
   "execution_count": 61,
   "metadata": {},
   "outputs": [],
   "source": [
    "# create map\n",
    "import folium\n",
    "latitude, longitude = 43.65,-79.38\n",
    "map_clusters = folium.Map(location=[latitude, longitude], zoom_start=11)\n"
   ]
  },
  {
   "cell_type": "code",
   "execution_count": 56,
   "metadata": {},
   "outputs": [],
   "source": [
    "map_df = pd.merge(features_df, geo_df, how='left', on='PostalCode')"
   ]
  },
  {
   "cell_type": "code",
   "execution_count": 57,
   "metadata": {},
   "outputs": [
    {
     "name": "stdout",
     "output_type": "stream",
     "text": [
      "['#8000ff', '#2adddd', '#d4dd80', '#ff0000']\n"
     ]
    }
   ],
   "source": [
    "# Matplotlib and associated plotting modules\n",
    "import matplotlib.cm as cm\n",
    "import matplotlib.colors as colors\n",
    "\n",
    "x = np.arange(k_clusters)\n",
    "ys = [i + x + (i*x)**3 for i in range(k_clusters)]\n",
    "colors_array = cm.rainbow(np.linspace(0, 1, len(ys)))\n",
    "rainbow = [colors.rgb2hex(i) for i in colors_array]\n",
    "print(rainbow)\n"
   ]
  },
  {
   "cell_type": "code",
   "execution_count": 58,
   "metadata": {},
   "outputs": [
    {
     "data": {
      "text/html": [
       "<div style=\"width:100%;\"><div style=\"position:relative;width:100%;height:0;padding-bottom:60%;\"><iframe src=\"about:blank\" style=\"position:absolute;width:100%;height:100%;left:0;top:0;border:none !important;\" data-html=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 onload=\"this.contentDocument.open();this.contentDocument.write(atob(this.getAttribute('data-html')));this.contentDocument.close();\" allowfullscreen webkitallowfullscreen mozallowfullscreen></iframe></div></div>"
      ],
      "text/plain": [
       "<folium.folium.Map at 0x110045630>"
      ]
     },
     "execution_count": 58,
     "metadata": {},
     "output_type": "execute_result"
    }
   ],
   "source": [
    "# add markers to the map\n",
    "\n",
    "for lat, lon, poi, cluster in zip(map_df['Latitude'], map_df['Longitude'], map_df['Neighbourhood'], map_df['Labels']):\n",
    "    label = folium.Popup(str(poi) + ' Cluster ' + str(cluster), parse_html=True)\n",
    "    folium.CircleMarker(\n",
    "        [lat, lon],\n",
    "        radius=5,\n",
    "        popup=label,\n",
    "        color=rainbow[cluster-1],\n",
    "        fill=True,\n",
    "        fill_color=rainbow[cluster-1],\n",
    "        fill_opacity=0.7).add_to(map_clusters)\n",
    "       \n",
    "map_clusters"
   ]
  },
  {
   "cell_type": "markdown",
   "metadata": {},
   "source": [
    "<style type=\"text/css\">\n",
    ".tg  {border-collapse:collapse;border-spacing:0;}\n",
    ".tg td{font-family:Arial, sans-serif;font-size:14px;padding:10px 5px;border-style:solid;border-width:1px;overflow:hidden;word-break:normal;border-color:black;}\n",
    ".tg th{font-family:Arial, sans-serif;font-size:14px;font-weight:normal;padding:10px 5px;border-style:solid;border-width:1px;overflow:hidden;word-break:normal;border-color:black;}\n",
    ".tg .tg-1wig{font-weight:bold;text-align:left;vertical-align:top}\n",
    ".tg .tg-fymr{font-weight:bold;border-color:inherit;text-align:left;vertical-align:top}\n",
    ".tg .tg-0lax{text-align:left;vertical-align:top}\n",
    "</style>\n",
    "<table class=\"tg\">\n",
    "  <tr>\n",
    "    <th class=\"tg-fymr\">Color</th>\n",
    "    <th class=\"tg-1wig\">Cluster</th>\n",
    "  </tr>\n",
    "   <tr>\n",
    "    <td class=\"tg-0lax\" bgcolor='#ff0000'></td>\n",
    "    <td class=\"tg-0lax\">0</td>\n",
    "  </tr>\n",
    "  <tr>\n",
    "    <td class=\"tg-0lax\" bgcolor='#8000ff'></td>\n",
    "    <td class=\"tg-0lax\">1</td>\n",
    "  </tr>\n",
    "    <tr>\n",
    "    <td class=\"tg-0lax\" bgcolor='2adddd'></td>\n",
    "    <td class=\"tg-0lax\">2</td>\n",
    "  </tr>\n",
    "  <tr>\n",
    "    <td class=\"tg-0lax\" bgcolor='#d4dd80'></td>\n",
    "    <td class=\"tg-0lax\">3</td>\n",
    "  </tr>\n",
    "\n",
    "</table>"
   ]
  },
  {
   "cell_type": "code",
   "execution_count": 59,
   "metadata": {},
   "outputs": [
    {
     "data": {
      "text/html": [
       "<div>\n",
       "<style scoped>\n",
       "    .dataframe tbody tr th:only-of-type {\n",
       "        vertical-align: middle;\n",
       "    }\n",
       "\n",
       "    .dataframe tbody tr th {\n",
       "        vertical-align: top;\n",
       "    }\n",
       "\n",
       "    .dataframe thead th {\n",
       "        text-align: right;\n",
       "    }\n",
       "</style>\n",
       "<table border=\"1\" class=\"dataframe\">\n",
       "  <thead>\n",
       "    <tr style=\"text-align: right;\">\n",
       "      <th></th>\n",
       "      <th>PostalCode</th>\n",
       "      <th>Borough</th>\n",
       "      <th>Neighbourhood</th>\n",
       "      <th>Restaurant_Count</th>\n",
       "      <th>Pizza_Count</th>\n",
       "      <th>Likes</th>\n",
       "      <th>Labels</th>\n",
       "      <th>Latitude</th>\n",
       "      <th>Longitude</th>\n",
       "    </tr>\n",
       "  </thead>\n",
       "  <tbody>\n",
       "    <tr>\n",
       "      <th>42</th>\n",
       "      <td>M4L</td>\n",
       "      <td>East Toronto</td>\n",
       "      <td>The Beaches West, India Bazaar</td>\n",
       "      <td>23.0</td>\n",
       "      <td>2.0</td>\n",
       "      <td>18.5</td>\n",
       "      <td>3</td>\n",
       "      <td>43.668999</td>\n",
       "      <td>-79.315572</td>\n",
       "    </tr>\n",
       "    <tr>\n",
       "      <th>47</th>\n",
       "      <td>M4S</td>\n",
       "      <td>Central Toronto</td>\n",
       "      <td>Davisville</td>\n",
       "      <td>13.0</td>\n",
       "      <td>1.0</td>\n",
       "      <td>26.0</td>\n",
       "      <td>3</td>\n",
       "      <td>43.704324</td>\n",
       "      <td>-79.388790</td>\n",
       "    </tr>\n",
       "    <tr>\n",
       "      <th>77</th>\n",
       "      <td>M6J</td>\n",
       "      <td>West Toronto</td>\n",
       "      <td>Little Portugal, Trinity</td>\n",
       "      <td>16.0</td>\n",
       "      <td>2.0</td>\n",
       "      <td>31.0</td>\n",
       "      <td>3</td>\n",
       "      <td>43.647927</td>\n",
       "      <td>-79.419750</td>\n",
       "    </tr>\n",
       "  </tbody>\n",
       "</table>\n",
       "</div>"
      ],
      "text/plain": [
       "   PostalCode          Borough                   Neighbourhood  \\\n",
       "42        M4L     East Toronto  The Beaches West, India Bazaar   \n",
       "47        M4S  Central Toronto                      Davisville   \n",
       "77        M6J     West Toronto        Little Portugal, Trinity   \n",
       "\n",
       "    Restaurant_Count  Pizza_Count  Likes  Labels   Latitude  Longitude  \n",
       "42              23.0          2.0   18.5       3  43.668999 -79.315572  \n",
       "47              13.0          1.0   26.0       3  43.704324 -79.388790  \n",
       "77              16.0          2.0   31.0       3  43.647927 -79.419750  "
      ]
     },
     "execution_count": 59,
     "metadata": {},
     "output_type": "execute_result"
    }
   ],
   "source": [
    "cluster3_df= map_df.loc[features_df['Labels']==3]\n",
    "cluster3_df\n"
   ]
  },
  {
   "cell_type": "code",
   "execution_count": 60,
   "metadata": {},
   "outputs": [
    {
     "data": {
      "text/html": [
       "<div style=\"width:100%;\"><div style=\"position:relative;width:100%;height:0;padding-bottom:60%;\"><iframe src=\"about:blank\" style=\"position:absolute;width:100%;height:100%;left:0;top:0;border:none !important;\" data-html=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 onload=\"this.contentDocument.open();this.contentDocument.write(atob(this.getAttribute('data-html')));this.contentDocument.close();\" allowfullscreen webkitallowfullscreen mozallowfullscreen></iframe></div></div>"
      ],
      "text/plain": [
       "<folium.folium.Map at 0x1198c3b38>"
      ]
     },
     "execution_count": 60,
     "metadata": {},
     "output_type": "execute_result"
    }
   ],
   "source": [
    "latitude, longitude = 43.65,-79.38\n",
    "map_clusters = folium.Map(location=[latitude, longitude], zoom_start=12)\n",
    "for lat, lon, poi, cluster in zip(cluster3_df['Latitude'], cluster3_df['Longitude'], cluster3_df['Neighbourhood'], cluster3_df['Labels']):\n",
    "    label = folium.Popup(str(poi) + ' Cluster ' + str(cluster), parse_html=True)\n",
    "    folium.CircleMarker(\n",
    "        [lat, lon],\n",
    "        radius=5,\n",
    "        popup=label,\n",
    "        color='#ff0000',\n",
    "        fill=True,\n",
    "        fill_color='#ff0000',\n",
    "        fill_opacity=0.7).add_to(map_clusters)\n",
    "    #folium.Marker([lat, lng], popup=label).add_to(map_clusters)\n",
    "     \n",
    "map_clusters"
   ]
  },
  {
   "cell_type": "code",
   "execution_count": null,
   "metadata": {},
   "outputs": [],
   "source": []
  },
  {
   "cell_type": "code",
   "execution_count": null,
   "metadata": {},
   "outputs": [],
   "source": []
  },
  {
   "cell_type": "code",
   "execution_count": null,
   "metadata": {},
   "outputs": [],
   "source": []
  },
  {
   "cell_type": "code",
   "execution_count": null,
   "metadata": {},
   "outputs": [],
   "source": []
  },
  {
   "cell_type": "code",
   "execution_count": null,
   "metadata": {},
   "outputs": [],
   "source": []
  },
  {
   "cell_type": "code",
   "execution_count": null,
   "metadata": {},
   "outputs": [],
   "source": []
  },
  {
   "cell_type": "code",
   "execution_count": null,
   "metadata": {},
   "outputs": [],
   "source": []
  },
  {
   "cell_type": "code",
   "execution_count": null,
   "metadata": {},
   "outputs": [],
   "source": []
  },
  {
   "cell_type": "code",
   "execution_count": null,
   "metadata": {},
   "outputs": [],
   "source": []
  },
  {
   "cell_type": "code",
   "execution_count": null,
   "metadata": {},
   "outputs": [],
   "source": []
  }
 ],
 "metadata": {
  "kernelspec": {
   "display_name": "Python 3",
   "language": "python",
   "name": "python3"
  },
  "language_info": {
   "codemirror_mode": {
    "name": "ipython",
    "version": 3
   },
   "file_extension": ".py",
   "mimetype": "text/x-python",
   "name": "python",
   "nbconvert_exporter": "python",
   "pygments_lexer": "ipython3",
   "version": "3.7.1"
  }
 },
 "nbformat": 4,
 "nbformat_minor": 2
}
